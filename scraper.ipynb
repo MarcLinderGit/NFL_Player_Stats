{
 "cells": [
  {
   "cell_type": "markdown",
   "metadata": {},
   "source": [
    "## Import Functions"
   ]
  },
  {
   "cell_type": "code",
   "execution_count": 1,
   "metadata": {},
   "outputs": [],
   "source": [
    "# Import functions from frunctions.ipynb\n",
    "# in Python: from functions import *\n",
    "%run functions.ipynb"
   ]
  },
  {
   "cell_type": "markdown",
   "metadata": {},
   "source": [
    "## Import Libraries"
   ]
  },
  {
   "cell_type": "code",
   "execution_count": 2,
   "metadata": {},
   "outputs": [],
   "source": [
    "import datetime"
   ]
  },
  {
   "cell_type": "markdown",
   "metadata": {},
   "source": [
    "## Set parameters"
   ]
  },
  {
   "cell_type": "code",
   "execution_count": 3,
   "metadata": {},
   "outputs": [
    {
     "name": "stdout",
     "output_type": "stream",
     "text": [
      "Current NFL Season: 2023\n",
      "Current NFL Week: 7\n"
     ]
    }
   ],
   "source": [
    "# Get the current date\n",
    "current_date = datetime.date.today()\n",
    "\n",
    "# Define the start date of an NFL season (in 2023: 07. September)\n",
    "nfl_season_start_date = datetime.date(current_date.year, 9, 7)\n",
    "\n",
    "# Calculate the current NFL season\n",
    "if current_date < nfl_season_start_date:\n",
    "    current_season = current_date.year - 1\n",
    "else:\n",
    "    current_season = current_date.year\n",
    "\n",
    "# Calculate the current NFL week (assuming a 17-week regular season)\n",
    "days_since_season_start = (current_date - nfl_season_start_date).days\n",
    "current_week = min((days_since_season_start // 7) + 1, 17)\n",
    "\n",
    "# Print the current season and week\n",
    "print(\"Current NFL Season:\", current_season)\n",
    "print(\"Current NFL Week:\", current_week)"
   ]
  },
  {
   "cell_type": "markdown",
   "metadata": {},
   "source": [
    "## Scrape Data"
   ]
  },
  {
   "cell_type": "markdown",
   "metadata": {},
   "source": [
    "### Get Current Season Data"
   ]
  },
  {
   "cell_type": "code",
   "execution_count": 4,
   "metadata": {},
   "outputs": [
    {
     "name": "stdout",
     "output_type": "stream",
     "text": [
      "The season you inserted is not in string format.\n",
      "Converted season to string.\n",
      "No more pages to scrape for individual - passing.\n",
      "No more pages to scrape for individual - rushing.\n",
      "No more pages to scrape for individual - receiving.\n",
      "No more pages to scrape for individual - fumbles.\n",
      "No more pages to scrape for individual - tackles.\n",
      "No more pages to scrape for individual - interceptions.\n",
      "No more pages to scrape for individual - field-goals.\n",
      "No more pages to scrape for individual - kickoffs.\n",
      "No more pages to scrape for individual - kickoff-returns.\n",
      "No more pages to scrape for individual - punts.\n",
      "No more pages to scrape for individual - punt-returns.\n",
      "individual - passing Sub-Pages:\n",
      "Page 0: https://www.nfl.com/stats/player-stats/category/passing/2023/reg/all/passingyards/desc\n",
      "Page 1: https://www.nfl.com/stats/player-stats/category/passing/2023/REG/all/passingyards/DESC?aftercursor=AAAAGQAAABlAksQAAAAAADFleUp6WldGeVkyaEJablJsY2lJNld5SXhNakF4SWl3aU16SXdNRFEyTkRrdE5EVTNOaTA1TlRBMExUazJNMlF0WXpNek1USTNaVGd3TnpVeUlpd2lNakF5TXlKZGZRPT0=\n",
      "Page 2: https://www.nfl.com/stats/player-stats/category/passing/2023/REG/all/passingyards/DESC?aftercursor=AAAAMgAAADJANgAAAAAAADFleUp6WldGeVkyaEJablJsY2lJNld5SXlNaUlzSWpNeU1EQTBZelJtTFRSbE1ERXRNelEyTXkxaE0yVTVMV1k1TldVNE1EQmpPR0ppWVNJc0lqSXdNak1pWFgwPQ==\n",
      "individual - rushing Sub-Pages:\n",
      "Page 0: https://www.nfl.com/stats/player-stats/category/rushing/2023/reg/all/rushingyards/desc\n",
      "Page 1: https://www.nfl.com/stats/player-stats/category/rushing/2023/REG/all/rushingyards/DESC?aftercursor=AAAAGQAAABlAcsAAAAAAADFleUp6WldGeVkyaEJablJsY2lJNld5SXpNREFpTENJek1qQXdORGcwTVMwMU1qUTVMVE14TmpNdFpqaG1OUzAzTTJNMU5XWTRZVFZqTUdRaUxDSXlNREl6SWwxOQ==\n",
      "Page 2: https://www.nfl.com/stats/player-stats/category/rushing/2023/REG/all/rushingyards/DESC?aftercursor=AAAAMgAAADJAZUAAAAAAADFleUp6WldGeVkyaEJablJsY2lJNld5SXhOekFpTENJek1qQXdORE0wT0MwMU5UQXpMVE01TkRJdFpEaGlNaTB4T0RGaVpEWTFPRFF4TW1VaUxDSXlNREl6SWwxOQ==\n",
      "Page 3: https://www.nfl.com/stats/player-stats/category/rushing/2023/REG/all/rushingyards/DESC?aftercursor=AAAASwAAAEtAWMAAAAAAADFleUp6WldGeVkyaEJablJsY2lJNld5STVPU0lzSWpNeU1EQTBNalV5TFRRMU1qVXROamd4T1MxbU5HVXpMV1l6TkROaE16a3hZMlJpWkNJc0lqSXdNak1pWFgwPQ==\n",
      "Page 4: https://www.nfl.com/stats/player-stats/category/rushing/2023/REG/all/rushingyards/DESC?aftercursor=AAAAZAAAAGRATIAAAAAAADFleUp6WldGeVkyaEJablJsY2lJNld5STFOeUlzSWpNeU1EQTFNalE1TFRVMk5qY3RNek00TkMwMll6YzRMV0kzWldWbU56WXhPVFEyTnlJc0lqSXdNak1pWFgwPQ==\n",
      "Page 5: https://www.nfl.com/stats/player-stats/category/rushing/2023/REG/all/rushingyards/DESC?aftercursor=AAAAfQAAAH1APwAAAAAAADFleUp6WldGeVkyaEJablJsY2lJNld5SXpNU0lzSWpNeU1EQTBOelE1TFRVd05UY3ROakl5TWkwM09HSmhMV0U0TXpaaU1EazFaVEprTWlJc0lqSXdNak1pWFgwPQ==\n",
      "Page 6: https://www.nfl.com/stats/player-stats/category/rushing/2023/REG/all/rushingyards/DESC?aftercursor=AAAAlgAAAJZANAAAAAAAADFleUp6WldGeVkyaEJablJsY2lJNld5SXlNQ0lzSWpNeU1EQTBNelJtTFRSbU1qa3RPVE00TWkweU9XVXhMVGN3TURJd1lqQmhNRGxpWlNJc0lqSXdNak1pWFgwPQ==\n",
      "Page 7: https://www.nfl.com/stats/player-stats/category/rushing/2023/REG/all/rushingyards/DESC?aftercursor=AAAArwAAAK9AJgAAAAAAADFleUp6WldGeVkyaEJablJsY2lJNld5SXhNU0lzSWpNeU1EQTBNalExTFRVeU5EVXROakExTUMxaU9XUTRMVGhpTWpnNE1EQTJZbVEwTmlJc0lqSXdNak1pWFgwPQ==\n",
      "Page 8: https://www.nfl.com/stats/player-stats/category/rushing/2023/REG/all/rushingyards/DESC?aftercursor=AAAAyAAAAMdAEAAAAAAAADFleUp6WldGeVkyaEJablJsY2lJNld5STBJaXdpTXpJd01EUXhOVFV0TlRNM015MDRNREEwTFRWbVpqTXROVEptTVdNeVlqUm1ZakJpSWl3aU1qQXlNeUpkZlE9PQ==\n",
      "Page 9: https://www.nfl.com/stats/player-stats/category/rushing/2023/REG/all/rushingyards/DESC?aftercursor=AAAA4QAAAN4_8AAAAAAAADFleUp6WldGeVkyaEJablJsY2lJNld5SXhJaXdpTXpJd01EUmlOR1F0TkRVeU1DMHdPRGsxTFdZd01qY3ROakZrTnpjNVltVmxabVkwSWl3aU1qQXlNeUpkZlE9PQ==\n",
      "Page 10: https://www.nfl.com/stats/player-stats/category/rushing/2023/REG/all/rushingyards/DESC?aftercursor=AAAA-AAAAPfACAAAAAAAADFleUp6WldGeVkyaEJablJsY2lJNld5SXRNeUlzSWpNeU1EQTFNalE1TFRRek1UVXRNamt4TmkxalpUYzBMVGxoTmpsbE5EWTVaamswTUNJc0lqSXdNak1pWFgwPQ==\n",
      "individual - receiving Sub-Pages:\n",
      "Page 0: https://www.nfl.com/stats/player-stats/category/receiving/2023/reg/all/receivingreceptions/desc\n",
      "Page 1: https://www.nfl.com/stats/player-stats/category/receiving/2023/REG/all/receivingreceptions/DESC?aftercursor=AAAAGQAAABhAQQAAAAAAADFleUp6WldGeVkyaEJablJsY2lJNld5SXpOQ0lzSWpNeU1EQTBZelF4TFRSa01UTXRPRFExTnkxbVkySmxMV1F6TjJaa1ltUTROekl6TXlJc0lqSXdNak1pWFgwPQ==\n",
      "Page 2: https://www.nfl.com/stats/player-stats/category/receiving/2023/REG/all/receivingreceptions/DESC?aftercursor=AAAAMgAAADFAOgAAAAAAADFleUp6WldGeVkyaEJablJsY2lJNld5SXlOaUlzSWpNeU1EQTBZVFF4TFRRek56TXRORFl4TlMwMk1HTmhMVGs0TW1Rd056QTBOamcwTVNJc0lqSXdNak1pWFgwPQ==\n",
      "Page 3: https://www.nfl.com/stats/player-stats/category/receiving/2023/REG/all/receivingreceptions/DESC?aftercursor=AAAASwAAAEZANgAAAAAAADFleUp6WldGeVkyaEJablJsY2lJNld5SXlNaUlzSWpNeU1EQTFOelF4TFRVeU5qVXRPVFl4TWkweVpUWTRMV1k1WlRWbU5ETmhZelV5TnlJc0lqSXdNak1pWFgwPQ==\n",
      "Page 4: https://www.nfl.com/stats/player-stats/category/receiving/2023/REG/all/receivingreceptions/DESC?aftercursor=AAAAZAAAAGBAMgAAAAAAADFleUp6WldGeVkyaEJablJsY2lJNld5SXhPQ0lzSWpNeU1EQTFNelJqTFRReE5UQXRNREEzTnkwek1UVm1MVFEzWTJabU1qZzNOMkl5TXlJc0lqSXdNak1pWFgwPQ==\n",
      "Page 5: https://www.nfl.com/stats/player-stats/category/receiving/2023/REG/all/receivingreceptions/DESC?aftercursor=AAAAfQAAAHxALAAAAAAAADFleUp6WldGeVkyaEJablJsY2lJNld5SXhOQ0lzSWpNeU1EQTBORFJtTFRVMU1qVXRPVFUxTWkwMVpHTTVMV1prWVRkak5XRTVZakF6WkNJc0lqSXdNak1pWFgwPQ==\n",
      "Page 6: https://www.nfl.com/stats/player-stats/category/receiving/2023/REG/all/receivingreceptions/DESC?aftercursor=AAAAlgAAAJNAKAAAAAAAADFleUp6WldGeVkyaEJablJsY2lJNld5SXhNaUlzSWpNeU1EQTBPRFJtTFRRME5UTXROekl5TWkxak4yWXdMVFkzT0dZM1ltVTNNMlZpWXlJc0lqSXdNak1pWFgwPQ==\n",
      "Page 7: https://www.nfl.com/stats/player-stats/category/receiving/2023/REG/all/receivingreceptions/DESC?aftercursor=AAAArwAAAKxAIgAAAAAAADFleUp6WldGeVkyaEJablJsY2lJNld5STVJaXdpTXpJd01EUXpOREV0TlRJM01TMDJOVEl3TFdObU5HTXRaRFk1TVRaaVl6ZzNaVEF3SWl3aU1qQXlNeUpkZlE9PQ==\n",
      "Page 8: https://www.nfl.com/stats/player-stats/category/receiving/2023/REG/all/receivingreceptions/DESC?aftercursor=AAAAyAAAALtAIAAAAAAAADFleUp6WldGeVkyaEJablJsY2lJNld5STRJaXdpTXpJd01EVTNORGt0TkRNMk1pMHlPRFkzTFRGalpUa3RZV0UyWWpKa09EUXlaREl4SWl3aU1qQXlNeUpkZlE9PQ==\n",
      "Page 9: https://www.nfl.com/stats/player-stats/category/receiving/2023/REG/all/receivingreceptions/DESC?aftercursor=AAAA4QAAANVAGAAAAAAAADFleUp6WldGeVkyaEJablJsY2lJNld5STJJaXdpTXpJd01EUmtOR1l0TkdVME9DMDNNemMwTFdFd05EUXROMlppTVRrM1lqWmlOVEF4SWl3aU1qQXlNeUpkZlE9PQ==\n",
      "Page 10: https://www.nfl.com/stats/player-stats/category/receiving/2023/REG/all/receivingreceptions/DESC?aftercursor=AAAA-gAAAOZAFAAAAAAAADFleUp6WldGeVkyaEJablJsY2lJNld5STFJaXdpTXpJd01EVTJOREV0TlRVME1pMDBPVGM1TFRReE5XUXRPVFF3TTJWaE56a3paamxpSWl3aU1qQXlNeUpkZlE9PQ==\n",
      "Page 11: https://www.nfl.com/stats/player-stats/category/receiving/2023/REG/all/receivingreceptions/DESC?aftercursor=AAABEwAAAPtAEAAAAAAAADFleUp6WldGeVkyaEJablJsY2lJNld5STBJaXdpTXpJd01EVTFOV0V0TkdZME1TMDFNamt4TFRkak5EZ3RaalF5WmprMVpXVXlNR1F5SWl3aU1qQXlNeUpkZlE9PQ==\n",
      "Page 12: https://www.nfl.com/stats/player-stats/category/receiving/2023/REG/all/receivingreceptions/DESC?aftercursor=AAABLAAAARlACAAAAAAAADFleUp6WldGeVkyaEJablJsY2lJNld5SXpJaXdpTXpJd01EVXpOREV0TkdRd09TMHpPVFl4TFRSaE5URXRPVGhoT1Rka00yTm1OVEJtSWl3aU1qQXlNeUpkZlE9PQ==\n",
      "Page 13: https://www.nfl.com/stats/player-stats/category/receiving/2023/REG/all/receivingreceptions/DESC?aftercursor=AAABRQAAATBAAAAAAAAAADFleUp6WldGeVkyaEJablJsY2lJNld5SXlJaXdpTXpJd01EVXpORE10TkdZeE1DMHhPRE14TFdRM1lXRXRZMk0zWkdFMk16RmxOekE0SWl3aU1qQXlNeUpkZlE9PQ==\n",
      "Page 14: https://www.nfl.com/stats/player-stats/category/receiving/2023/REG/all/receivingreceptions/DESC?aftercursor=AAABXgAAAVE_8AAAAAAAADFleUp6WldGeVkyaEJablJsY2lJNld5SXhJaXdpTXpJd01EUTNOVEl0TkRFMk5TMHlPRGN3TFRnMVltUXRaVEZoTkRjeVlqZ3daV1pqSWl3aU1qQXlNeUpkZlE9PQ==\n",
      "Page 15: https://www.nfl.com/stats/player-stats/category/receiving/2023/REG/all/receivingreceptions/DESC?aftercursor=AAABdwAAAVE_8AAAAAAAADFleUp6WldGeVkyaEJablJsY2lJNld5SXhJaXdpTXpJd01EVXdORFV0TkdVMU1DMDBOelV6TFRObU0yWXRZekE0Wm1aa09UUTJOMkl3SWl3aU1qQXlNeUpkZlE9PQ==\n",
      "Page 16: https://www.nfl.com/stats/player-stats/category/receiving/2023/REG/all/receivingreceptions/DESC?aftercursor=AAABkAAAAYsAAAAAAAAAADFleUp6WldGeVkyaEJablJsY2lJNld5SXdJaXdpTXpJd01EUTBOR1l0TlRjek5TMDJPVEF5TFRVeU9URXRZall4Wm1Sa1lqTXpPRGMzSWl3aU1qQXlNeUpkZlE9PQ==\n",
      "Page 17: https://www.nfl.com/stats/player-stats/category/receiving/2023/REG/all/receivingreceptions/DESC?aftercursor=AAABoAAAAYsAAAAAAAAAADFleUp6WldGeVkyaEJablJsY2lJNld5SXdJaXdpTXpJd01EVmlOR1V0TkdZd01DMHhOREF3TFRabE9XSXRNREJpTXprMU1UTm1OR0k1SWl3aU1qQXlNeUpkZlE9PQ==\n",
      "individual - fumbles Sub-Pages:\n",
      "Page 0: https://www.nfl.com/stats/player-stats/category/fumbles/2023/reg/all/defensiveforcedfumble/desc\n",
      "Page 1: https://www.nfl.com/stats/player-stats/category/fumbles/2023/REG/all/defensiveforcedfumble/DESC?aftercursor=AAAAGQAAAAdAAAAAAAAAADFleUp6WldGeVkyaEJablJsY2lJNld5SXlJaXdpTXpJd01EVTJORFV0TkRFd05pMDFOREV3TFRWallUTXRaRFEzTlRBell6QTBOV1V6SWl3aU1qQXlNeUpkZlE9PQ==\n",
      "Page 2: https://www.nfl.com/stats/player-stats/category/fumbles/2023/REG/all/defensiveforcedfumble/DESC?aftercursor=AAAAMgAAABw_8AAAAAAAADFleUp6WldGeVkyaEJablJsY2lJNld5SXhJaXdpTXpJd01EUXpOR010TkRVME5TMDBPRE0yTFRNeU16Z3RObVF3Tm1JNFpqVmhPVFF3SWl3aU1qQXlNeUpkZlE9PQ==\n",
      "Page 3: https://www.nfl.com/stats/player-stats/category/fumbles/2023/REG/all/defensiveforcedfumble/DESC?aftercursor=AAAASwAAABw_8AAAAAAAADFleUp6WldGeVkyaEJablJsY2lJNld5SXhJaXdpTXpJd01EUTNORGt0TkdNM05TMDBOVGM1TFRJeFlXRXRaR0V3TURFeVlUWTFOR1JrSWl3aU1qQXlNeUpkZlE9PQ==\n",
      "Page 4: https://www.nfl.com/stats/player-stats/category/fumbles/2023/REG/all/defensiveforcedfumble/DESC?aftercursor=AAAAZAAAABw_8AAAAAAAADFleUp6WldGeVkyaEJablJsY2lJNld5SXhJaXdpTXpJd01EUmtORFV0TlRRek9DMHpORFF5TFRKbVkySXRPVFZpWmprMVlqVXlOVGd4SWl3aU1qQXlNeUpkZlE9PQ==\n",
      "Page 5: https://www.nfl.com/stats/player-stats/category/fumbles/2023/REG/all/defensiveforcedfumble/DESC?aftercursor=AAAAfQAAABw_8AAAAAAAADFleUp6WldGeVkyaEJablJsY2lJNld5SXhJaXdpTXpJd01EVXpOR1F0TkdZME55MDBNelE1TFRjek5UQXRPRFl4WlRCaE9UazVZMkU1SWl3aU1qQXlNeUpkZlE9PQ==\n",
      "Page 6: https://www.nfl.com/stats/player-stats/category/fumbles/2023/REG/all/defensiveforcedfumble/DESC?aftercursor=AAAAlgAAAJAAAAAAAAAAADFleUp6WldGeVkyaEJablJsY2lJNld5SXdJaXdpTXpJd01EUXhORFF0TkRFMU1TMDVPVEExTFRjd1pESXRPVEk0TnpjeU5UZGlNRFkwSWl3aU1qQXlNeUpkZlE9PQ==\n",
      "Page 7: https://www.nfl.com/stats/player-stats/category/fumbles/2023/REG/all/defensiveforcedfumble/DESC?aftercursor=AAAArwAAAJAAAAAAAAAAADFleUp6WldGeVkyaEJablJsY2lJNld5SXdJaXdpTXpJd01EUXhOVFF0TlRjME5pMHdORFk0TFRNd01qZ3RZVEUwWTJNME1XWTVZMll6SWl3aU1qQXlNeUpkZlE9PQ==\n",
      "Page 8: https://www.nfl.com/stats/player-stats/category/fumbles/2023/REG/all/defensiveforcedfumble/DESC?aftercursor=AAAAyAAAAJAAAAAAAAAAADFleUp6WldGeVkyaEJablJsY2lJNld5SXdJaXdpTXpJd01EUXlORFV0TkdNMU9TMDJOVEExTFRRelkyVXROV05qWkRNMll6QmtNelJoSWl3aU1qQXlNeUpkZlE9PQ==\n",
      "Page 9: https://www.nfl.com/stats/player-stats/category/fumbles/2023/REG/all/defensiveforcedfumble/DESC?aftercursor=AAAA4QAAAJAAAAAAAAAAADFleUp6WldGeVkyaEJablJsY2lJNld5SXdJaXdpTXpJd01EUXlOR1l0TkdZMk5TMDFPREF4TFdGa056QXRNVFl3TW1ReFlUYzNOakkzSWl3aU1qQXlNeUpkZlE9PQ==\n",
      "Page 10: https://www.nfl.com/stats/player-stats/category/fumbles/2023/REG/all/defensiveforcedfumble/DESC?aftercursor=AAAA-gAAAJAAAAAAAAAAADFleUp6WldGeVkyaEJablJsY2lJNld5SXdJaXdpTXpJd01EUXlOVEl0TkdZM015MDROamsyTFRKaU16Z3RaV1kxT0RsaE5EWTNObU00SWl3aU1qQXlNeUpkZlE9PQ==\n",
      "Page 11: https://www.nfl.com/stats/player-stats/category/fumbles/2023/REG/all/defensiveforcedfumble/DESC?aftercursor=AAABEwAAAJAAAAAAAAAAADFleUp6WldGeVkyaEJablJsY2lJNld5SXdJaXdpTXpJd01EUXpOREV0TlRJM01TMDJOVEl3TFdObU5HTXRaRFk1TVRaaVl6ZzNaVEF3SWl3aU1qQXlNeUpkZlE9PQ==\n",
      "Page 12: https://www.nfl.com/stats/player-stats/category/fumbles/2023/REG/all/defensiveforcedfumble/DESC?aftercursor=AAABLAAAAJAAAAAAAAAAADFleUp6WldGeVkyaEJablJsY2lJNld5SXdJaXdpTXpJd01EUXpOR1l0TkdNeE5TMHhNalEyTFRGaVpETXROVGs1TkRabFpqSXlNVFZqSWl3aU1qQXlNeUpkZlE9PQ==\n",
      "Page 13: https://www.nfl.com/stats/player-stats/category/fumbles/2023/REG/all/defensiveforcedfumble/DESC?aftercursor=AAABRQAAAJAAAAAAAAAAADFleUp6WldGeVkyaEJablJsY2lJNld5SXdJaXdpTXpJd01EUTBOREV0TlRZeU5pMHlOREEwTFRnd1pXVXROMlV5WW1RM01tSXlNR1EwSWl3aU1qQXlNeUpkZlE9PQ==\n",
      "Page 14: https://www.nfl.com/stats/player-stats/category/fumbles/2023/REG/all/defensiveforcedfumble/DESC?aftercursor=AAABXgAAAJAAAAAAAAAAADFleUp6WldGeVkyaEJablJsY2lJNld5SXdJaXdpTXpJd01EUTBOR1l0TkRRek5DMHhORFl3TFdJek56Z3RPVEV4Tnpaa056QTBZemMzSWl3aU1qQXlNeUpkZlE9PQ==\n",
      "Page 15: https://www.nfl.com/stats/player-stats/category/fumbles/2023/REG/all/defensiveforcedfumble/DESC?aftercursor=AAABdwAAAJAAAAAAAAAAADFleUp6WldGeVkyaEJablJsY2lJNld5SXdJaXdpTXpJd01EUTFOR1F0TkRVME1DMDBNakUxTFRrM1ptSXRNemN5T0dJNE9EWTVPRGd6SWl3aU1qQXlNeUpkZlE9PQ==\n",
      "Page 16: https://www.nfl.com/stats/player-stats/category/fumbles/2023/REG/all/defensiveforcedfumble/DESC?aftercursor=AAABkAAAAJAAAAAAAAAAADFleUp6WldGeVkyaEJablJsY2lJNld5SXdJaXdpTXpJd01EUTJOR1l0TlRNd09DMHhPRFl6TFRObU1EUXRObU5rWlRZMVpHUXdZV0V6SWl3aU1qQXlNeUpkZlE9PQ==\n",
      "Page 17: https://www.nfl.com/stats/player-stats/category/fumbles/2023/REG/all/defensiveforcedfumble/DESC?aftercursor=AAABqQAAAJAAAAAAAAAAADFleUp6WldGeVkyaEJablJsY2lJNld5SXdJaXdpTXpJd01EUTNORGt0TlRBMU55MDJNakl5TFRjNFltRXRZVGd6Tm1Jd09UVmxNbVF5SWl3aU1qQXlNeUpkZlE9PQ==\n",
      "Page 18: https://www.nfl.com/stats/player-stats/category/fumbles/2023/REG/all/defensiveforcedfumble/DESC?aftercursor=AAABwgAAAJAAAAAAAAAAADFleUp6WldGeVkyaEJablJsY2lJNld5SXdJaXdpTXpJd01EUTNOVEl0TkRreU9TMDJOVFkxTFRkbU5UUXROVGxtWm1NM016VTNNak5tSWl3aU1qQXlNeUpkZlE9PQ==\n",
      "Page 19: https://www.nfl.com/stats/player-stats/category/fumbles/2023/REG/all/defensiveforcedfumble/DESC?aftercursor=AAAB2wAAAJAAAAAAAAAAADFleUp6WldGeVkyaEJablJsY2lJNld5SXdJaXdpTXpJd01EUTROREV0TlRJMk1DMDFNVEE1TFRWaU1HUXRZemsyTm1ZNFltRTNaVGN4SWl3aU1qQXlNeUpkZlE9PQ==\n",
      "Page 20: https://www.nfl.com/stats/player-stats/category/fumbles/2023/REG/all/defensiveforcedfumble/DESC?aftercursor=AAAB9AAAAJAAAAAAAAAAADFleUp6WldGeVkyaEJablJsY2lJNld5SXdJaXdpTXpJd01EUTROR1l0TkRReU5TMHdORGt6TFdSaVptTXRNREl4T0RkbFpURXlOVE5rSWl3aU1qQXlNeUpkZlE9PQ==\n",
      "Page 21: https://www.nfl.com/stats/player-stats/category/fumbles/2023/REG/all/defensiveforcedfumble/DESC?aftercursor=AAACDQAAAJAAAAAAAAAAADFleUp6WldGeVkyaEJablJsY2lJNld5SXdJaXdpTXpJd01EUTROVFV0TkRjd09DMHpPRGd5TFdGa1pUa3RObUk1WWpkbFpXSTFabUUwSWl3aU1qQXlNeUpkZlE9PQ==\n",
      "Page 22: https://www.nfl.com/stats/player-stats/category/fumbles/2023/REG/all/defensiveforcedfumble/DESC?aftercursor=AAACJgAAAJAAAAAAAAAAADFleUp6WldGeVkyaEJablJsY2lJNld5SXdJaXdpTXpJd01EUmhOREV0TkRNME1DMHpPREUwTFdNMU1qa3RPVE5rWVRrNU9HSTBaamcxSWl3aU1qQXlNeUpkZlE9PQ==\n",
      "Page 23: https://www.nfl.com/stats/player-stats/category/fumbles/2023/REG/all/defensiveforcedfumble/DESC?aftercursor=AAACPwAAAJAAAAAAAAAAADFleUp6WldGeVkyaEJablJsY2lJNld5SXdJaXdpTXpJd01EUmhOR1l0TkRneE5pMDFNamc1TFRkbFltRXRaV1ZoTlRWak5HWTVaV1ZqSWl3aU1qQXlNeUpkZlE9PQ==\n",
      "Page 24: https://www.nfl.com/stats/player-stats/category/fumbles/2023/REG/all/defensiveforcedfumble/DESC?aftercursor=AAACWAAAAJAAAAAAAAAAADFleUp6WldGeVkyaEJablJsY2lJNld5SXdJaXdpTXpJd01EUmhOR1l0TkdVME9TMDFNamd3TFRSbFpXUXRNVGN4TXpBeFpEVXpPR0l3SWl3aU1qQXlNeUpkZlE9PQ==\n",
      "Page 25: https://www.nfl.com/stats/player-stats/category/fumbles/2023/REG/all/defensiveforcedfumble/DESC?aftercursor=AAACcQAAAJAAAAAAAAAAADFleUp6WldGeVkyaEJablJsY2lJNld5SXdJaXdpTXpJd01EUmlORGt0TkdVd05pMDVNVE13TFdVMU5qTXROMlZrWkRJeU9EQXpNV000SWl3aU1qQXlNeUpkZlE9PQ==\n",
      "Page 26: https://www.nfl.com/stats/player-stats/category/fumbles/2023/REG/all/defensiveforcedfumble/DESC?aftercursor=AAACigAAAJAAAAAAAAAAADFleUp6WldGeVkyaEJablJsY2lJNld5SXdJaXdpTXpJd01EUmpORFV0TkRReU1pMDVNall5TFdVM01qUXRObVF3WWpnM05tWTFOemxoSWl3aU1qQXlNeUpkZlE9PQ==\n",
      "Page 27: https://www.nfl.com/stats/player-stats/category/fumbles/2023/REG/all/defensiveforcedfumble/DESC?aftercursor=AAACowAAAJAAAAAAAAAAADFleUp6WldGeVkyaEJablJsY2lJNld5SXdJaXdpTXpJd01EUmtOREV0TlRJeU5pMDROell6TFdRNU5qUXRNRGhoTmpjNFl6ZGxNVFZpSWl3aU1qQXlNeUpkZlE9PQ==\n",
      "Page 28: https://www.nfl.com/stats/player-stats/category/fumbles/2023/REG/all/defensiveforcedfumble/DESC?aftercursor=AAACvAAAAJAAAAAAAAAAADFleUp6WldGeVkyaEJablJsY2lJNld5SXdJaXdpTXpJd01EUmtORE10TkRRMU9TMDVOalkxTFdVMk9XUXRZVGMwTnpZeVptTTNaVFkzSWl3aU1qQXlNeUpkZlE9PQ==\n",
      "Page 29: https://www.nfl.com/stats/player-stats/category/fumbles/2023/REG/all/defensiveforcedfumble/DESC?aftercursor=AAAC1QAAAJAAAAAAAAAAADFleUp6WldGeVkyaEJablJsY2lJNld5SXdJaXdpTXpJd01EUmtOR1l0TkdZeU55MDVOekl6TFROak56VXRNR1V3T0RKaVl6SXdNR001SWl3aU1qQXlNeUpkZlE9PQ==\n",
      "Page 30: https://www.nfl.com/stats/player-stats/category/fumbles/2023/REG/all/defensiveforcedfumble/DESC?aftercursor=AAAC7gAAAJAAAAAAAAAAADFleUp6WldGeVkyaEJablJsY2lJNld5SXdJaXdpTXpJd01EUmxOR1V0TkRFeE5TMDNNamczTFRrMFpXVXRZMlExTmpNME5ESTJOR05tSWl3aU1qQXlNeUpkZlE9PQ==\n",
      "Page 31: https://www.nfl.com/stats/player-stats/category/fumbles/2023/REG/all/defensiveforcedfumble/DESC?aftercursor=AAADBwAAAJAAAAAAAAAAADFleUp6WldGeVkyaEJablJsY2lJNld5SXdJaXdpTXpJd01EVXdOREV0TkRNeU1pMDNOREl3TFdVeE5URXRZMkppT0RNek1HTTVZbUZoSWl3aU1qQXlNeUpkZlE9PQ==\n",
      "Page 32: https://www.nfl.com/stats/player-stats/category/fumbles/2023/REG/all/defensiveforcedfumble/DESC?aftercursor=AAADIAAAAJAAAAAAAAAAADFleUp6WldGeVkyaEJablJsY2lJNld5SXdJaXdpTXpJd01EVXdORGt0TlRBMU55MDVORFl4TFdNeFpUZ3RNRFV4TXpReFlUUmhPR1F4SWl3aU1qQXlNeUpkZlE9PQ==\n",
      "Page 33: https://www.nfl.com/stats/player-stats/category/fumbles/2023/REG/all/defensiveforcedfumble/DESC?aftercursor=AAADOQAAAJAAAAAAAAAAADFleUp6WldGeVkyaEJablJsY2lJNld5SXdJaXdpTXpJd01EVXlORFV0TkRVMk55MDNNVGsyTFRsaVpqQXRaVGczTnpNd1pEVmhZekF6SWl3aU1qQXlNeUpkZlE9PQ==\n",
      "Page 34: https://www.nfl.com/stats/player-stats/category/fumbles/2023/REG/all/defensiveforcedfumble/DESC?aftercursor=AAADUgAAAJAAAAAAAAAAADFleUp6WldGeVkyaEJablJsY2lJNld5SXdJaXdpTXpJd01EVXlOR1l0TkRJMU1pMDJORFExTFRSbE5tSXRORE0xTTJVMVlUaG1ZelJrSWl3aU1qQXlNeUpkZlE9PQ==\n",
      "Page 35: https://www.nfl.com/stats/player-stats/category/fumbles/2023/REG/all/defensiveforcedfumble/DESC?aftercursor=AAADawAAAJAAAAAAAAAAADFleUp6WldGeVkyaEJablJsY2lJNld5SXdJaXdpTXpJd01EVXpORGd0TkRVek15MHhNek14TFRabE5qa3RZekE1T1Rkak9EQXpNamcwSWl3aU1qQXlNeUpkZlE9PQ==\n",
      "Page 36: https://www.nfl.com/stats/player-stats/category/fumbles/2023/REG/all/defensiveforcedfumble/DESC?aftercursor=AAADhAAAAJAAAAAAAAAAADFleUp6WldGeVkyaEJablJsY2lJNld5SXdJaXdpTXpJd01EVXpOR1F0TkRrMU15MDJPRFE0TFdaa05HUXRNbVkzTXpVMU4yUXdObU5oSWl3aU1qQXlNeUpkZlE9PQ==\n",
      "Page 37: https://www.nfl.com/stats/player-stats/category/fumbles/2023/REG/all/defensiveforcedfumble/DESC?aftercursor=AAADnQAAAJAAAAAAAAAAADFleUp6WldGeVkyaEJablJsY2lJNld5SXdJaXdpTXpJd01EVXpOVFF0TkdZME9DMHpNekkwTFRkak56WXROakpqTUdNMU9UTXlPREF3SWl3aU1qQXlNeUpkZlE9PQ==\n",
      "Page 38: https://www.nfl.com/stats/player-stats/category/fumbles/2023/REG/all/defensiveforcedfumble/DESC?aftercursor=AAADtgAAAJAAAAAAAAAAADFleUp6WldGeVkyaEJablJsY2lJNld5SXdJaXdpTXpJd01EVTBORGd0TkdZeE1TMDVNelExTFdJeE5qWXRaamczWkRFd05tWm1OR0ppSWl3aU1qQXlNeUpkZlE9PQ==\n",
      "Page 39: https://www.nfl.com/stats/player-stats/category/fumbles/2023/REG/all/defensiveforcedfumble/DESC?aftercursor=AAADzwAAAJAAAAAAAAAAADFleUp6WldGeVkyaEJablJsY2lJNld5SXdJaXdpTXpJd01EVTBOVEl0TlRrME1DMDVNamt4TFRJelkyTXROMlUwTmpOak4yRmpaREpsSWl3aU1qQXlNeUpkZlE9PQ==\n",
      "Page 40: https://www.nfl.com/stats/player-stats/category/fumbles/2023/REG/all/defensiveforcedfumble/DESC?aftercursor=AAAD6AAAAJAAAAAAAAAAADFleUp6WldGeVkyaEJablJsY2lJNld5SXdJaXdpTXpJd01EVTNOREV0TkRRd09DMDROamd6TFdNNE1qWXRZemc0TW1Ga05tWmtOV015SWl3aU1qQXlNeUpkZlE9PQ==\n",
      "Page 41: https://www.nfl.com/stats/player-stats/category/fumbles/2023/REG/all/defensiveforcedfumble/DESC?aftercursor=AAAEAQAAAJAAAAAAAAAAADFleUp6WldGeVkyaEJablJsY2lJNld5SXdJaXdpTXpJd01EVTNORGd0TkRFMk5TMHlOVGszTFRkbE5UWXRZemsxWVdRME1HTmlOV1U1SWl3aU1qQXlNeUpkZlE9PQ==\n",
      "Page 42: https://www.nfl.com/stats/player-stats/category/fumbles/2023/REG/all/defensiveforcedfumble/DESC?aftercursor=AAAEGgAAAJAAAAAAAAAAADFleUp6WldGeVkyaEJablJsY2lJNld5SXdJaXdpTXpJd01EVTNORGt0TkdNMU1TMDFNRFF4TFRVMVpUSXRZV0V6TkRVMk1HRTNNVEU1SWl3aU1qQXlNeUpkZlE9PQ==\n",
      "Page 43: https://www.nfl.com/stats/player-stats/category/fumbles/2023/REG/all/defensiveforcedfumble/DESC?aftercursor=AAAEMwAAAJAAAAAAAAAAADFleUp6WldGeVkyaEJablJsY2lJNld5SXdJaXdpTXpJd01EVTNOR1l0TkdZM01TMHpNVEkwTFRVMVpqQXRaVFptTURneE5tVTVOVGxoSWl3aU1qQXlNeUpkZlE9PQ==\n",
      "Page 44: https://www.nfl.com/stats/player-stats/category/fumbles/2023/REG/all/defensiveforcedfumble/DESC?aftercursor=AAAEQAAAAJAAAAAAAAAAADFleUp6WldGeVkyaEJablJsY2lJNld5SXdJaXdpTXpJd01EVmlOR1V0TkdZd01DMHlNVEF3TFRZMU5tVXRPREEyWmpWa1ltSmxPR1U0SWl3aU1qQXlNeUpkZlE9PQ==\n",
      "individual - tackles Sub-Pages:\n",
      "Page 0: https://www.nfl.com/stats/player-stats/category/tackles/2023/reg/all/defensivecombinetackles/desc\n",
      "Page 1: https://www.nfl.com/stats/player-stats/category/tackles/2023/REG/all/defensivecombinetackles/DESC?aftercursor=AAAAGQAAABlASgAAAAAAADFleUp6WldGeVkyaEJablJsY2lJNld5STFNaTR3SWl3aU16SXdNRFEwTkRVdE5ERXdNUzAyTURZM0xXVTVNekV0TWpZeFlUaGpObVU0TURSbElpd2lNakF5TXlKZGZRPT0=\n",
      "Page 2: https://www.nfl.com/stats/player-stats/category/tackles/2023/REG/all/defensivecombinetackles/DESC?aftercursor=AAAAMgAAADFARgAAAAAAADFleUp6WldGeVkyaEJablJsY2lJNld5STBOQzR3SWl3aU16SXdNRFEyTlRVdE5HTXpNeTAzTkRJekxUUXdNMkV0TkRNeVpqY3dOelZsWkRReUlpd2lNakF5TXlKZGZRPT0=\n",
      "Page 3: https://www.nfl.com/stats/player-stats/category/tackles/2023/REG/all/defensivecombinetackles/DESC?aftercursor=AAAASwAAAEdAQ4AAAAAAADFleUp6WldGeVkyaEJablJsY2lJNld5SXpPUzR3SWl3aU16SXdNRFJqTlRVdE5UWTJOUzB5TmpBeExXWTRNV1V0WTJVeFkyRTNaV05rTlRBeElpd2lNakF5TXlKZGZRPT0=\n",
      "Page 4: https://www.nfl.com/stats/player-stats/category/tackles/2023/REG/all/defensivecombinetackles/DESC?aftercursor=AAAAZAAAAGNAQQAAAAAAADFleUp6WldGeVkyaEJablJsY2lJNld5SXpOQzR3SWl3aU16SXdNRFF6TkRrdE5UTXlNQzAzTmpRMUxXUTVPVEF0TkdKbE5HVTJNbVF4TVdFeklpd2lNakF5TXlKZGZRPT0=\n",
      "Page 5: https://www.nfl.com/stats/player-stats/category/tackles/2023/REG/all/defensivecombinetackles/DESC?aftercursor=AAAAfQAAAHhAPwAAAAAAADFleUp6WldGeVkyaEJablJsY2lJNld5SXpNUzR3SWl3aU16SXdNRFE0TlRrdE5EUTBNaTB5TURReExUSmpaV1l0WXpabVl6Y3pOVFExWmpCa0lpd2lNakF5TXlKZGZRPT0=\n",
      "Page 6: https://www.nfl.com/stats/player-stats/category/tackles/2023/REG/all/defensivecombinetackles/DESC?aftercursor=AAAAlgAAAI9APQAAAAAAADFleUp6WldGeVkyaEJablJsY2lJNld5SXlPUzR3SWl3aU16SXdNRFE1TldFdE5EazBNUzAxTWpreExUVXpaR0V0T0dabFpEWmxZVEZtWVdVMklpd2lNakF5TXlKZGZRPT0=\n",
      "Page 7: https://www.nfl.com/stats/player-stats/category/tackles/2023/REG/all/defensivecombinetackles/DESC?aftercursor=AAAArwAAAKlAOwAAAAAAADFleUp6WldGeVkyaEJablJsY2lJNld5SXlOeTR3SWl3aU16SXdNRFV6TlRjdE5EVXdNeTAwTXpjMUxXWmtZbU10TXpnNVlUY3pZVFZrWkdNMUlpd2lNakF5TXlKZGZRPT0=\n",
      "Page 8: https://www.nfl.com/stats/player-stats/category/tackles/2023/REG/all/defensivecombinetackles/DESC?aftercursor=AAAAxgAAAMVAOAAAAAAAADFleUp6WldGeVkyaEJablJsY2lJNld5SXlOQzR3SWl3aU16SXdNRFF5TkRVdE5HVXdNeTAyTXpNMkxURXlZamN0WkRRNFpEZzJZakprWlRVNElpd2lNakF5TXlKZGZRPT0=\n",
      "Page 9: https://www.nfl.com/stats/player-stats/category/tackles/2023/REG/all/defensivecombinetackles/DESC?aftercursor=AAAA3wAAANNANwAAAAAAADFleUp6WldGeVkyaEJablJsY2lJNld5SXlNeTR3SWl3aU16SXdNRFV3TkRFdE5Ua3lPQzB4TWpJeUxUWmhabUV0TkRGbFl6a3lOVFl5TjJFMElpd2lNakF5TXlKZGZRPT0=\n",
      "Page 10: https://www.nfl.com/stats/player-stats/category/tackles/2023/REG/all/defensivecombinetackles/DESC?aftercursor=AAAA9AAAAOZANgAAAAAAADFleUp6WldGeVkyaEJablJsY2lJNld5SXlNaTR3SWl3aU16SXdNRFJsTkRrdE5ETXhOUzAzTnpJekxURTFZV1l0T1dNeE1XRmlOREJoWWpVM0lpd2lNakF5TXlKZGZRPT0=\n",
      "Page 11: https://www.nfl.com/stats/player-stats/category/tackles/2023/REG/all/defensivecombinetackles/DESC?aftercursor=AAABCwAAAQZANAAAAAAAADFleUp6WldGeVkyaEJablJsY2lJNld5SXlNQzR3SWl3aU16SXdNRFF6TkRndE5ERXdNUzAwTVRnd0xUTTBOVGN0TlRSaVpEVmtObUV5T1RJMElpd2lNakF5TXlKZGZRPT0=\n",
      "Page 12: https://www.nfl.com/stats/player-stats/category/tackles/2023/REG/all/defensivecombinetackles/DESC?aftercursor=AAABIwAAARpAMwAAAAAAADFleUp6WldGeVkyaEJablJsY2lJNld5SXhPUzR3SWl3aU16SXdNRFV6TlRRdE5USTFPUzAwTnpVekxXTmtaVGN0T1RBNU9UUXlNRGMxTkdObUlpd2lNakF5TXlKZGZRPT0=\n",
      "Page 13: https://www.nfl.com/stats/player-stats/category/tackles/2023/REG/all/defensivecombinetackles/DESC?aftercursor=AAABOQAAATFAMQAAAAAAADFleUp6WldGeVkyaEJablJsY2lJNld5SXhOeTR3SWl3aU16SXdNRFJqTkRFdE5HVXhOUzA1TnpBMExXTTJOV010T1dFd04ySXlPR0ZtTmpJd0lpd2lNakF5TXlKZGZRPT0=\n",
      "Page 14: https://www.nfl.com/stats/player-stats/category/tackles/2023/REG/all/defensivecombinetackles/DESC?aftercursor=AAABUAAAAUBAMAAAAAAAADFleUp6WldGeVkyaEJablJsY2lJNld5SXhOaTR3SWl3aU16SXdNRFUwTkRndE5Ea3hOeTB5T0RZMkxUWTROR1l0TWpFNFpEazNaRGMwTTJSa0lpd2lNakF5TXlKZGZRPT0=\n",
      "Page 15: https://www.nfl.com/stats/player-stats/category/tackles/2023/REG/all/defensivecombinetackles/DESC?aftercursor=AAABaAAAAVdALgAAAAAAADFleUp6WldGeVkyaEJablJsY2lJNld5SXhOUzR3SWl3aU16SXdNRFV3TkRrdE5EVTBNaTAwT0RrekxXSTJPR1l0WldNNE5UWTVOREUxTnpFNElpd2lNakF5TXlKZGZRPT0=\n",
      "Page 16: https://www.nfl.com/stats/player-stats/category/tackles/2023/REG/all/defensivecombinetackles/DESC?aftercursor=AAABgAAAAW1ALAAAAAAAADFleUp6WldGeVkyaEJablJsY2lJNld5SXhOQzR3SWl3aU16SXdNRFV6TkRndE5EVTFNUzAzT0RrMUxUZ3dObVl0TVRrMVlqaGhNemRtTkRaa0lpd2lNakF5TXlKZGZRPT0=\n",
      "Page 17: https://www.nfl.com/stats/player-stats/category/tackles/2023/REG/all/defensivecombinetackles/DESC?aftercursor=AAABlgAAAYNAKgAAAAAAADFleUp6WldGeVkyaEJablJsY2lJNld5SXhNeTR3SWl3aU16SXdNRFUzTkRrdE5HTXpPUzB3TURRMUxUSTJZbU10WkdFeE9HSTFZV1kxT1dVd0lpd2lNakF5TXlKZGZRPT0=\n",
      "Page 18: https://www.nfl.com/stats/player-stats/category/tackles/2023/REG/all/defensivecombinetackles/DESC?aftercursor=AAABrQAAAZdAKAAAAAAAADFleUp6WldGeVkyaEJablJsY2lJNld5SXhNaTR3SWl3aU16SXdNRFUwTlRVdE5USXlPQzB6TVRVeExXUXdZbVl0TkRreVlXRXhZVFU1TWpNd0lpd2lNakF5TXlKZGZRPT0=\n",
      "Page 19: https://www.nfl.com/stats/player-stats/category/tackles/2023/REG/all/defensivecombinetackles/DESC?aftercursor=AAABwQAAAbNAJgAAAAAAADFleUp6WldGeVkyaEJablJsY2lJNld5SXhNUzR3SWl3aU16SXdNRFJqTkdZdE5HVXlNUzB4TWpRekxUaGtNamt0WkRnM01qSTNOMkptTkdZM0lpd2lNakF5TXlKZGZRPT0=\n",
      "Page 20: https://www.nfl.com/stats/player-stats/category/tackles/2023/REG/all/defensivecombinetackles/DESC?aftercursor=AAAB2gAAAcZAJAAAAAAAADFleUp6WldGeVkyaEJablJsY2lJNld5SXhNQzR3SWl3aU16SXdNRFUzTkRrdE5HVXlNQzAzTmpNMkxUUTJNR0V0WkRnMVlqTXdOMlZqTUdGbUlpd2lNakF5TXlKZGZRPT0=\n",
      "Page 21: https://www.nfl.com/stats/player-stats/category/tackles/2023/REG/all/defensivecombinetackles/DESC?aftercursor=AAAB8AAAAdtAIgAAAAAAADFleUp6WldGeVkyaEJablJsY2lJNld5STVMakFpTENJek1qQXdOVE0xTkMwME9UWXdMVEUwTWpBdFlUTTRaUzFpTnpOaE1tSTBZMlExWVRZaUxDSXlNREl6SWwxOQ==\n",
      "Page 22: https://www.nfl.com/stats/player-stats/category/tackles/2023/REG/all/defensivecombinetackles/DESC?aftercursor=AAACCQAAAfdAIAAAAAAAADFleUp6WldGeVkyaEJablJsY2lJNld5STRMakFpTENJek1qQXdOR1EwTVMwME5ETTBMVGMxT0RVdE1XVmxNQzB3TXpsaU5XRTROak5tWkRraUxDSXlNREl6SWwxOQ==\n",
      "Page 23: https://www.nfl.com/stats/player-stats/category/tackles/2023/REG/all/defensivecombinetackles/DESC?aftercursor=AAACIgAAAhRAHAAAAAAAADFleUp6WldGeVkyaEJablJsY2lJNld5STNMakFpTENJek1qQXdOR0UwWmkwMFpUWXpMVFl6TnpFdFkyWmlNQzA1T0dVNE1EVXhOVFl6WW1JaUxDSXlNREl6SWwxOQ==\n",
      "Page 24: https://www.nfl.com/stats/player-stats/category/tackles/2023/REG/all/defensivecombinetackles/DESC?aftercursor=AAACOgAAAjFAGAAAAAAAADFleUp6WldGeVkyaEJablJsY2lJNld5STJMakFpTENJek1qQXdORFkwWmkwMU9ESTFMVEF3TlRndFpHUXdZeTFrTmpVM00ySmhNV1JsTXpNaUxDSXlNREl6SWwxOQ==\n",
      "Page 25: https://www.nfl.com/stats/player-stats/category/tackles/2023/REG/all/defensivecombinetackles/DESC?aftercursor=AAACUwAAAjFAGAAAAAAAADFleUp6WldGeVkyaEJablJsY2lJNld5STJMakFpTENJek1qQXdOVGMwTlMwME1UWTRMVEF3TmpRdFpEUTNOeTFoTkdVMU5qWTFOMkUyTjJRaUxDSXlNREl6SWwxOQ==\n",
      "Page 26: https://www.nfl.com/stats/player-stats/category/tackles/2023/REG/all/defensivecombinetackles/DESC?aftercursor=AAACawAAAlZAFAAAAAAAADFleUp6WldGeVkyaEJablJsY2lJNld5STFMakFpTENJek1qQXdOR00xTlMwMFlqWTJMVEk1TkRndE9HVm1OQzFqWXpjMU9ETmlZV0l4T1RBaUxDSXlNREl6SWwxOQ==\n",
      "Page 27: https://www.nfl.com/stats/player-stats/category/tackles/2023/REG/all/defensivecombinetackles/DESC?aftercursor=AAACgwAAAn1AEAAAAAAAADFleUp6WldGeVkyaEJablJsY2lJNld5STBMakFpTENJek1qQXdORFkwWmkwMU1qSTVMVGt3TWpndFptTmlOQzB4TlRVNE1qY3hOemN6TlRnaUxDSXlNREl6SWwxOQ==\n",
      "Page 28: https://www.nfl.com/stats/player-stats/category/tackles/2023/REG/all/defensivecombinetackles/DESC?aftercursor=AAACnAAAAn1AEAAAAAAAADFleUp6WldGeVkyaEJablJsY2lJNld5STBMakFpTENJek1qQXdOVE0wWkMwME9UVXpMVFk0TkRndFptUTBaQzB5Wmpjek5UVTNaREEyWTJFaUxDSXlNREl6SWwxOQ==\n",
      "Page 29: https://www.nfl.com/stats/player-stats/category/tackles/2023/REG/all/defensivecombinetackles/DESC?aftercursor=AAACtQAAAqdACAAAAAAAADFleUp6WldGeVkyaEJablJsY2lJNld5SXpMakFpTENJek1qQXdORFEwTVMwMU5qZ3hMVFkwTnpNdE5HSmlZaTFsWWpJek1XTmhOamt4T0RFaUxDSXlNREl6SWwxOQ==\n",
      "Page 30: https://www.nfl.com/stats/player-stats/category/tackles/2023/REG/all/defensivecombinetackles/DESC?aftercursor=AAACzgAAAqdACAAAAAAAADFleUp6WldGeVkyaEJablJsY2lJNld5SXpMakFpTENJek1qQXdOR00wWmkwME16QTJMVEk1TWpVdFl6RXdPUzFtWkROak1XTmtPVGhqWVRZaUxDSXlNREl6SWwxOQ==\n",
      "Page 31: https://www.nfl.com/stats/player-stats/category/tackles/2023/REG/all/defensivecombinetackles/DESC?aftercursor=AAAC5wAAAqdACAAAAAAAADFleUp6WldGeVkyaEJablJsY2lJNld5SXpMakFpTENJek1qQXdOVGcwT1MwMFpETXdMVGd5T0RFdFptWTFZUzB5WmpCbU1EaGhZbUkzWmpJaUxDSXlNREl6SWwxOQ==\n",
      "Page 32: https://www.nfl.com/stats/player-stats/category/tackles/2023/REG/all/defensivecombinetackles/DESC?aftercursor=AAADAAAAAuhAAAAAAAAAADFleUp6WldGeVkyaEJablJsY2lJNld5SXlMakFpTENJek1qQXdORFUwTXkwME9ERTBMVEkzTlRVdE5tSTBPQzB5TmpRMVpUY3lZbUl6TldFaUxDSXlNREl6SWwxOQ==\n",
      "Page 33: https://www.nfl.com/stats/player-stats/category/tackles/2023/REG/all/defensivecombinetackles/DESC?aftercursor=AAADGQAAAuhAAAAAAAAAADFleUp6WldGeVkyaEJablJsY2lJNld5SXlMakFpTENJek1qQXdOR1EwTVMwMU5ETXhMVEV5TVRZdE1UVmtZUzB5TVRoa1pXTmhOekl5TTJVaUxDSXlNREl6SWwxOQ==\n",
      "Page 34: https://www.nfl.com/stats/player-stats/category/tackles/2023/REG/all/defensivecombinetackles/DESC?aftercursor=AAADMgAAAuhAAAAAAAAAADFleUp6WldGeVkyaEJablJsY2lJNld5SXlMakFpTENJek1qQXdOVEkxTlMwMU16TTRMVE14TVRRdE1UazVaQzFpTVdNME16YzFPREJrTnpNaUxDSXlNREl6SWwxOQ==\n",
      "Page 35: https://www.nfl.com/stats/player-stats/category/tackles/2023/REG/all/defensivecombinetackles/DESC?aftercursor=AAADSwAAA0o_8AAAAAAAADFleUp6WldGeVkyaEJablJsY2lJNld5SXhMakFpTENJek1qQXdOREUwTkMwMFlqTTBMVFl3TnpVdFpETm1ZaTAwTlROa1lXUXdORFl4TkdFaUxDSXlNREl6SWwxOQ==\n",
      "Page 36: https://www.nfl.com/stats/player-stats/category/tackles/2023/REG/all/defensivecombinetackles/DESC?aftercursor=AAADZAAAA0o_8AAAAAAAADFleUp6WldGeVkyaEJablJsY2lJNld5SXhMakFpTENJek1qQXdOREkxTWkwMU9UUXhMVEUwTURJdE9EazVOQzAzWkdJd01XVmhZek16TlRBaUxDSXlNREl6SWwxOQ==\n",
      "Page 37: https://www.nfl.com/stats/player-stats/category/tackles/2023/REG/all/defensivecombinetackles/DESC?aftercursor=AAADfQAAA0o_8AAAAAAAADFleUp6WldGeVkyaEJablJsY2lJNld5SXhMakFpTENJek1qQXdORFEwT1MwME16STRMVEV6TlRrdE5UVXdZeTB6TVRRMFpqWXdNMk5rWVRRaUxDSXlNREl6SWwxOQ==\n",
      "Page 38: https://www.nfl.com/stats/player-stats/category/tackles/2023/REG/all/defensivecombinetackles/DESC?aftercursor=AAADlgAAA0o_8AAAAAAAADFleUp6WldGeVkyaEJablJsY2lJNld5SXhMakFpTENJek1qQXdORGMwWmkwME5EVTBMVGt6T1RNdE5tVmxZeTB5TkRFNE9XUmtOalkyTkRFaUxDSXlNREl6SWwxOQ==\n",
      "Page 39: https://www.nfl.com/stats/player-stats/category/tackles/2023/REG/all/defensivecombinetackles/DESC?aftercursor=AAADrwAAA0o_8AAAAAAAADFleUp6WldGeVkyaEJablJsY2lJNld5SXhMakFpTENJek1qQXdORGsxTWkwMU56WXlMVGt6TVRBdE5HSXlOaTAyTUdFNE5qQmtOelJpTURZaUxDSXlNREl6SWwxOQ==\n",
      "Page 40: https://www.nfl.com/stats/player-stats/category/tackles/2023/REG/all/defensivecombinetackles/DESC?aftercursor=AAADyAAAA0o_8AAAAAAAADFleUp6WldGeVkyaEJablJsY2lJNld5SXhMakFpTENJek1qQXdOR00wTVMwMU1EWTBMVEF5TXpVdE16azNNQzFpTldVMU5URTBPRE01Wm1NaUxDSXlNREl6SWwxOQ==\n",
      "Page 41: https://www.nfl.com/stats/player-stats/category/tackles/2023/REG/all/defensivecombinetackles/DESC?aftercursor=AAAD4QAAA0o_8AAAAAAAADFleUp6WldGeVkyaEJablJsY2lJNld5SXhMakFpTENJek1qQXdOR1EwT1MwMFl6VTVMVGMyTlRRdE9EWXdPQzAyTWpJd05URmlOVE5pWkRNaUxDSXlNREl6SWwxOQ==\n",
      "Page 42: https://www.nfl.com/stats/player-stats/category/tackles/2023/REG/all/defensivecombinetackles/DESC?aftercursor=AAAD-gAAA0o_8AAAAAAAADFleUp6WldGeVkyaEJablJsY2lJNld5SXhMakFpTENJek1qQXdOVEkwTlMwME5UUTNMVFEzTVRFdE9XSmtNaTB4WVdFM01UZGtOVGMxTURNaUxDSXlNREl6SWwxOQ==\n",
      "Page 43: https://www.nfl.com/stats/player-stats/category/tackles/2023/REG/all/defensivecombinetackles/DESC?aftercursor=AAAEEwAAA0o_8AAAAAAAADFleUp6WldGeVkyaEJablJsY2lJNld5SXhMakFpTENJek1qQXdOVE0xTkMwMFpqTTBMVEV5T1RRdE9HSmlOQzA0WldNNFptUXpaREkwWlRFaUxDSXlNREl6SWwxOQ==\n",
      "Page 44: https://www.nfl.com/stats/player-stats/category/tackles/2023/REG/all/defensivecombinetackles/DESC?aftercursor=AAAELAAAA0o_8AAAAAAAADFleUp6WldGeVkyaEJablJsY2lJNld5SXhMakFpTENJek1qQXdOVGMwTVMwMU1qRTVMVGs0TXpVdFl6TXpZaTB4TWpobVpERmpaalUyTnpNaUxDSXlNREl6SWwxOQ==\n",
      "individual - interceptions Sub-Pages:\n",
      "Page 0: https://www.nfl.com/stats/player-stats/category/interceptions/2023/reg/all/defensiveinterceptions/desc\n",
      "Page 1: https://www.nfl.com/stats/player-stats/category/interceptions/2023/REG/all/defensiveinterceptions/DESC?aftercursor=AAAAGQAAAAlAAAAAAAAAADFleUp6WldGeVkyaEJablJsY2lJNld5SXlJaXdpTXpJd01EUmtOR1l0TkRVMk5DMHpOalF4TFRRMVl6Z3RZalU1TlRnMk9HTXdOREl3SWl3aU1qQXlNeUpkZlE9PQ==\n",
      "Page 2: https://www.nfl.com/stats/player-stats/category/interceptions/2023/REG/all/defensiveinterceptions/DESC?aftercursor=AAAAMgAAACM_8AAAAAAAADFleUp6WldGeVkyaEJablJsY2lJNld5SXhJaXdpTXpJd01EUXpOREV0TlRNek1TMDJNVGcxTFRKaU16Y3RNR1EzTVRJd1ltTTVNakV5SWl3aU1qQXlNeUpkZlE9PQ==\n",
      "Page 3: https://www.nfl.com/stats/player-stats/category/interceptions/2023/REG/all/defensiveinterceptions/DESC?aftercursor=AAAASwAAACM_8AAAAAAAADFleUp6WldGeVkyaEJablJsY2lJNld5SXhJaXdpTXpJd01EUTRORGt0TkdNM09TMDJNak01TFRVeE1qa3ROV0UzWVRrMU5qYzBOemxpSWl3aU1qQXlNeUpkZlE9PQ==\n",
      "Page 4: https://www.nfl.com/stats/player-stats/category/interceptions/2023/REG/all/defensiveinterceptions/DESC?aftercursor=AAAAZAAAACM_8AAAAAAAADFleUp6WldGeVkyaEJablJsY2lJNld5SXhJaXdpTXpJd01EVXdORFV0TlRBME1pMHdOakU1TFRSbE4yUXRZVEJrTkdSbU5HRTBaV0UzSWl3aU1qQXlNeUpkZlE9PQ==\n",
      "Page 5: https://www.nfl.com/stats/player-stats/category/interceptions/2023/REG/all/defensiveinterceptions/DESC?aftercursor=AAAAfQAAACM_8AAAAAAAADFleUp6WldGeVkyaEJablJsY2lJNld5SXhJaXdpTXpJd01EVTNORGd0TkRrMU5DMDNOams1TFRoa01XVXRORGsxTWpZeE0yVTVOR1ZsSWl3aU1qQXlNeUpkZlE9PQ==\n",
      "individual - field-goals Sub-Pages:\n",
      "Page 0: https://www.nfl.com/stats/player-stats/category/field-goals/2023/reg/all/kickingfgmade/desc\n",
      "Page 1: https://www.nfl.com/stats/player-stats/category/field-goals/2023/REG/all/kickingfgmade/DESC?aftercursor=AAAAGQAAABlAIgAAAAAAADFleUp6WldGeVkyaEJablJsY2lJNld5STVJaXdpTXpJd01EUmhOR1l0TlRNeU1DMDRORFkwTFRSbVpHRXROREEzTVRkbFpEazNaR0ZsSWl3aU1qQXlNeUpkZlE9PQ==\n",
      "individual - kickoffs Sub-Pages:\n",
      "Page 0: https://www.nfl.com/stats/player-stats/category/kickoffs/2023/reg/all/kickofftotal/desc\n",
      "Page 1: https://www.nfl.com/stats/player-stats/category/kickoffs/2023/REG/all/kickofftotal/DESC?aftercursor=AAAAGQAAABlAPAAAAAAAADFleUp6WldGeVkyaEJablJsY2lJNld5SXlPQ0lzSWpNeU1EQTBNelF4TFRVeU1URXRNVEl5TWkxak1UWTVMVGd6TmpKbVlUTTFZemM1TlNJc0lqSXdNak1pWFgwPQ==\n",
      "individual - kickoff-returns Sub-Pages:\n",
      "Page 0: https://www.nfl.com/stats/player-stats/category/kickoff-returns/2023/reg/all/kickreturnsaverageyards/desc\n",
      "Page 1: https://www.nfl.com/stats/player-stats/category/kickoff-returns/2023/REG/all/kickreturnsaverageyards/DESC?aftercursor=AAAAGQAAABlANgAAAAAAADFleUp6WldGeVkyaEJablJsY2lJNld5SXlNaTR3SWl3aU16SXdNRFE1TkRJdE5USTBNUzAxTWpreExXVmpZVGN0TURZM05HVTNZakUxWkRFMUlpd2lNakF5TXlKZGZRPT0=\n",
      "Page 2: https://www.nfl.com/stats/player-stats/category/kickoff-returns/2023/REG/all/kickreturnsaverageyards/DESC?aftercursor=AAAAMgAAADFAMAAAAAAAADFleUp6WldGeVkyaEJablJsY2lJNld5SXhOaTR3SWl3aU16SXdNRFV5TkRrdE5UWTJOeTB6TXpnMExUWmpOemd0WWpkbFpXWTNOakU1TkRZM0lpd2lNakF5TXlKZGZRPT0=\n",
      "individual - punts Sub-Pages:\n",
      "Page 0: https://www.nfl.com/stats/player-stats/category/punts/2023/reg/all/puntingaverageyards/desc\n",
      "Page 1: https://www.nfl.com/stats/player-stats/category/punts/2023/REG/all/puntingaverageyards/DESC?aftercursor=AAAAGQAAABlARrXCj1wo9jFleUp6WldGeVkyaEJablJsY2lJNld5STBOUzQwTWlJc0lqTXlNREEwTmpSbUxUVTRNVGN0TVRZd05TMDFZV0kzTFRsbU5tTXlPV0V3Tm1Wak55SXNJakl3TWpNaVhYMD0=\n",
      "individual - punt-returns Sub-Pages:\n",
      "Page 0: https://www.nfl.com/stats/player-stats/category/punt-returns/2023/reg/all/puntreturnsaverageyards/desc\n",
      "Page 1: https://www.nfl.com/stats/player-stats/category/punt-returns/2023/REG/all/puntreturnsaverageyards/DESC?aftercursor=AAAAGQAAABlAIjhR64UeuDFleUp6WldGeVkyaEJablJsY2lJNld5STVMakV4SWl3aU16SXdNRFF6TkRFdE5USTJOQzB4TnprNExUUXpPR010TURrMVpHSTVZemhpT1RrNUlpd2lNakF5TXlKZGZRPT0=\n",
      "Page 2: https://www.nfl.com/stats/player-stats/category/punt-returns/2023/REG/all/puntreturnsaverageyards/DESC?aftercursor=AAAAMgAAADJACqPXCj1wpDFleUp6WldGeVkyaEJablJsY2lJNld5SXpMak16SWl3aU16SXdNRFV6TkRndE5EVTBPUzAxTnpVMExUVTJPVGN0TW1FNE16RXlaV1JqTkRnNUlpd2lNakF5TXlKZGZRPT0=\n",
      "Directory \"data\\2023\\player\\week7\" has been created.\n",
      "DataFrame for category \"passing\" in unit \"individual\" has been exported to data\\2023\\player\\week7\\passing.csv\n",
      "Directory \"data\\2023\\player\\week7\" already exists.\n",
      "DataFrame for category \"rushing\" in unit \"individual\" has been exported to data\\2023\\player\\week7\\rushing.csv\n"
     ]
    }
   ],
   "source": [
    "# Get stats for both player and team level in specificed season\n",
    "for level in [\"player\", \"team\"]:\n",
    "    get_stats(level, season = current_season)"
   ]
  },
  {
   "cell_type": "markdown",
   "metadata": {},
   "source": [
    "### Get Historic Data"
   ]
  },
  {
   "cell_type": "code",
   "execution_count": null,
   "metadata": {},
   "outputs": [],
   "source": [
    "# Create a list of years as strings since 1970\n",
    "seasons = [str(year) for year in range(1970, current_season-1)]\n",
    "\n",
    "for season in seasons:\n",
    "    for level in [\"player\", \"team\"]:\n",
    "        get_stats(level, season)"
   ]
  }
 ],
 "metadata": {
  "kernelspec": {
   "display_name": "base",
   "language": "python",
   "name": "python3"
  },
  "language_info": {
   "codemirror_mode": {
    "name": "ipython",
    "version": 3
   },
   "file_extension": ".py",
   "mimetype": "text/x-python",
   "name": "python",
   "nbconvert_exporter": "python",
   "pygments_lexer": "ipython3",
   "version": "3.11.6"
  },
  "orig_nbformat": 4
 },
 "nbformat": 4,
 "nbformat_minor": 2
}
