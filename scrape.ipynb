{
 "cells": [
  {
   "cell_type": "code",
   "execution_count": 1,
   "metadata": {},
   "outputs": [],
   "source": [
    "# Import functions from frunctions.ipynb\n",
    "# in Python: from functions import *\n",
    "%run functions.ipynb\n"
   ]
  },
  {
   "cell_type": "markdown",
   "metadata": {},
   "source": [
    "### Set parameters"
   ]
  },
  {
   "cell_type": "code",
   "execution_count": 2,
   "metadata": {},
   "outputs": [],
   "source": [
    "# Set current week (only relevant for current season data)\n",
    "current_week = 1\n",
    "\n",
    "# Set current season (will adjust output folders, as passed seasons only offer aggregate not weekly results)\n",
    "current_season = \"2023\""
   ]
  },
  {
   "cell_type": "markdown",
   "metadata": {},
   "source": [
    "### Get Current Season Data"
   ]
  },
  {
   "cell_type": "code",
   "execution_count": 3,
   "metadata": {},
   "outputs": [
    {
     "name": "stdout",
     "output_type": "stream",
     "text": [
      "Directory \"data\\1994\\player\\reg\" already exists.\n",
      "DataFrame for category \"passing\" in unit \"individual\" has been exported to data\\1994\\player\\reg\\passing.csv\n",
      "Directory \"data\\1994\\player\\reg\" already exists.\n",
      "DataFrame for category \"rushing\" in unit \"individual\" has been exported to data\\1994\\player\\reg\\rushing.csv\n",
      "Directory \"data\\1994\\player\\reg\" already exists.\n",
      "DataFrame for category \"receiving\" in unit \"individual\" has been exported to data\\1994\\player\\reg\\receiving.csv\n",
      "Directory \"data\\1994\\player\\reg\" already exists.\n",
      "DataFrame for category \"fumbles\" in unit \"individual\" has been exported to data\\1994\\player\\reg\\fumbles.csv\n",
      "Directory \"data\\1994\\player\\reg\" already exists.\n",
      "DataFrame for category \"tackles\" in unit \"individual\" has been exported to data\\1994\\player\\reg\\tackles.csv\n",
      "Directory \"data\\1994\\player\\reg\" already exists.\n",
      "DataFrame for category \"interceptions\" in unit \"individual\" has been exported to data\\1994\\player\\reg\\interceptions.csv\n",
      "Directory \"data\\1994\\player\\reg\" already exists.\n",
      "DataFrame for category \"field-goals\" in unit \"individual\" has been exported to data\\1994\\player\\reg\\field-goals.csv\n",
      "Directory \"data\\1994\\player\\reg\" already exists.\n",
      "DataFrame for category \"kickoffs\" in unit \"individual\" has been exported to data\\1994\\player\\reg\\kickoffs.csv\n",
      "Directory \"data\\1994\\player\\reg\" already exists.\n",
      "DataFrame for category \"kickoff-returns\" in unit \"individual\" has been exported to data\\1994\\player\\reg\\kickoff-returns.csv\n",
      "Directory \"data\\1994\\player\\reg\" already exists.\n",
      "DataFrame for category \"punts\" in unit \"individual\" has been exported to data\\1994\\player\\reg\\punts.csv\n",
      "Directory \"data\\1994\\player\\reg\" already exists.\n",
      "DataFrame for category \"punt-returns\" in unit \"individual\" has been exported to data\\1994\\player\\reg\\punt-returns.csv\n",
      "Directory \"data\\1994\\team\\reg\\offense\" already exists.\n",
      "DataFrame for category \"passing\" in unit \"offense\" has been exported to data\\1994\\team\\reg\\offense\\passing.csv\n",
      "Directory \"data\\1994\\team\\reg\\offense\" already exists.\n",
      "DataFrame for category \"rushing\" in unit \"offense\" has been exported to data\\1994\\team\\reg\\offense\\rushing.csv\n",
      "Directory \"data\\1994\\team\\reg\\offense\" already exists.\n",
      "DataFrame for category \"receiving\" in unit \"offense\" has been exported to data\\1994\\team\\reg\\offense\\receiving.csv\n",
      "Directory \"data\\1994\\team\\reg\\offense\" already exists.\n",
      "DataFrame for category \"scoring\" in unit \"offense\" has been exported to data\\1994\\team\\reg\\offense\\scoring.csv\n",
      "Directory \"data\\1994\\team\\reg\\offense\" already exists.\n",
      "DataFrame for category \"downs\" in unit \"offense\" has been exported to data\\1994\\team\\reg\\offense\\downs.csv\n",
      "Directory \"data\\1994\\team\\reg\\defense\" already exists.\n",
      "DataFrame for category \"passing\" in unit \"defense\" has been exported to data\\1994\\team\\reg\\defense\\passing.csv\n",
      "Directory \"data\\1994\\team\\reg\\defense\" already exists.\n",
      "DataFrame for category \"rushing\" in unit \"defense\" has been exported to data\\1994\\team\\reg\\defense\\rushing.csv\n",
      "Directory \"data\\1994\\team\\reg\\defense\" already exists.\n",
      "DataFrame for category \"receiving\" in unit \"defense\" has been exported to data\\1994\\team\\reg\\defense\\receiving.csv\n",
      "Directory \"data\\1994\\team\\reg\\defense\" already exists.\n",
      "DataFrame for category \"scoring\" in unit \"defense\" has been exported to data\\1994\\team\\reg\\defense\\scoring.csv\n",
      "Directory \"data\\1994\\team\\reg\\defense\" already exists.\n",
      "DataFrame for category \"tackles\" in unit \"defense\" has been exported to data\\1994\\team\\reg\\defense\\tackles.csv\n",
      "Directory \"data\\1994\\team\\reg\\defense\" already exists.\n",
      "DataFrame for category \"downs\" in unit \"defense\" has been exported to data\\1994\\team\\reg\\defense\\downs.csv\n",
      "Directory \"data\\1994\\team\\reg\\defense\" already exists.\n",
      "DataFrame for category \"fumbles\" in unit \"defense\" has been exported to data\\1994\\team\\reg\\defense\\fumbles.csv\n",
      "Directory \"data\\1994\\team\\reg\\defense\" already exists.\n",
      "DataFrame for category \"interceptions\" in unit \"defense\" has been exported to data\\1994\\team\\reg\\defense\\interceptions.csv\n",
      "Directory \"data\\1994\\team\\reg\\special-teams\" already exists.\n",
      "DataFrame for category \"field-goals\" in unit \"special-teams\" has been exported to data\\1994\\team\\reg\\special-teams\\field-goals.csv\n",
      "Directory \"data\\1994\\team\\reg\\special-teams\" already exists.\n",
      "DataFrame for category \"scoring\" in unit \"special-teams\" has been exported to data\\1994\\team\\reg\\special-teams\\scoring.csv\n",
      "Directory \"data\\1994\\team\\reg\\special-teams\" already exists.\n",
      "DataFrame for category \"kickoffs\" in unit \"special-teams\" has been exported to data\\1994\\team\\reg\\special-teams\\kickoffs.csv\n",
      "Directory \"data\\1994\\team\\reg\\special-teams\" already exists.\n",
      "DataFrame for category \"kickoff-returns\" in unit \"special-teams\" has been exported to data\\1994\\team\\reg\\special-teams\\kickoff-returns.csv\n",
      "Directory \"data\\1994\\team\\reg\\special-teams\" already exists.\n",
      "DataFrame for category \"punts\" in unit \"special-teams\" has been exported to data\\1994\\team\\reg\\special-teams\\punts.csv\n",
      "Directory \"data\\1994\\team\\reg\\special-teams\" already exists.\n",
      "DataFrame for category \"punt-returns\" in unit \"special-teams\" has been exported to data\\1994\\team\\reg\\special-teams\\punt-returns.csv\n"
     ]
    }
   ],
   "source": [
    "# Get stats for both player and team level in specificed season\n",
    "for level in [\"player\", \"team\"]:\n",
    "    get_stats(level, season = \"1994\")"
   ]
  },
  {
   "cell_type": "markdown",
   "metadata": {},
   "source": [
    "### Get Historic Data"
   ]
  },
  {
   "cell_type": "code",
   "execution_count": null,
   "metadata": {},
   "outputs": [],
   "source": [
    "# hist - Example usage:\n",
    "levels = [\"player\", \"team\"]\n",
    "# Create a list of years as strings from 1970 to 2022\n",
    "seasons = [str(year) for year in range(1970, 2023)]\n",
    "\n",
    "for season in seasons:\n",
    "    for level in levels:\n",
    "        get_stats(level, season)"
   ]
  }
 ],
 "metadata": {
  "kernelspec": {
   "display_name": "base",
   "language": "python",
   "name": "python3"
  },
  "language_info": {
   "codemirror_mode": {
    "name": "ipython",
    "version": 3
   },
   "file_extension": ".py",
   "mimetype": "text/x-python",
   "name": "python",
   "nbconvert_exporter": "python",
   "pygments_lexer": "ipython3",
   "version": "3.7.8"
  },
  "orig_nbformat": 4
 },
 "nbformat": 4,
 "nbformat_minor": 2
}
