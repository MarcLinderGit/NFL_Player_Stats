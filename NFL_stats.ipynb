{
 "cells": [
  {
   "cell_type": "code",
   "execution_count": 1,
   "metadata": {},
   "outputs": [],
   "source": [
    "from IPython.core.interactiveshell import InteractiveShell\n",
    "InteractiveShell.ast_node_interactivity = \"all\""
   ]
  },
  {
   "cell_type": "code",
   "execution_count": 2,
   "metadata": {},
   "outputs": [],
   "source": [
    "# pip install lxml"
   ]
  },
  {
   "cell_type": "markdown",
   "metadata": {},
   "source": [
    "## Import Libraries"
   ]
  },
  {
   "cell_type": "code",
   "execution_count": 3,
   "metadata": {},
   "outputs": [],
   "source": [
    "import requests\n",
    "from bs4 import BeautifulSoup\n",
    "import matplotlib.pyplot as plt\n",
    "import pandas as pd\n",
    "import numpy as np\n",
    "import os"
   ]
  },
  {
   "cell_type": "code",
   "execution_count": 4,
   "metadata": {},
   "outputs": [],
   "source": [
    "# Define Base Url\n",
    "base_url = \"https://www.nfl.com\"\n",
    "\n",
    "# Define Week\n",
    "current_week = 1"
   ]
  },
  {
   "cell_type": "markdown",
   "metadata": {},
   "source": [
    "### Get Pages to All Tabs"
   ]
  },
  {
   "cell_type": "code",
   "execution_count": 5,
   "metadata": {},
   "outputs": [
    {
     "name": "stdout",
     "output_type": "stream",
     "text": [
      "           Category                                               Link\n",
      "0           Passing  https://www.nfl.com/stats/player-stats/categor...\n",
      "1           Rushing  https://www.nfl.com/stats/player-stats/categor...\n",
      "2         Receiving  https://www.nfl.com/stats/player-stats/categor...\n",
      "3           Fumbles  https://www.nfl.com/stats/player-stats/categor...\n",
      "4           Tackles  https://www.nfl.com/stats/player-stats/categor...\n",
      "5     Interceptions  https://www.nfl.com/stats/player-stats/categor...\n",
      "6       Field Goals  https://www.nfl.com/stats/player-stats/categor...\n",
      "7          Kickoffs  https://www.nfl.com/stats/player-stats/categor...\n",
      "8   Kickoff Returns  https://www.nfl.com/stats/player-stats/categor...\n",
      "9           Punting  https://www.nfl.com/stats/player-stats/categor...\n",
      "10     Punt Returns  https://www.nfl.com/stats/player-stats/categor...\n"
     ]
    }
   ],
   "source": [
    "# Request raw HTML\n",
    "passing1 = requests.get(\"https://www.nfl.com/stats/player-stats/category/passing/2023/reg/all/passingyards/desc\")\n",
    "\n",
    "# Create a BeautifulSoup object called `soup` to traverse the combined HTML\n",
    "soup = BeautifulSoup(passing1.content, \"html.parser\")\n",
    "\n",
    "# Find all <a> elements within <li> elements\n",
    "a_elements = soup.find_all('li', class_='d3-o-tabs__list-item')\n",
    "\n",
    "# Extract the text from the <a> elements\n",
    "tabs = [element.find('a').get_text() for element in a_elements]\n",
    "\n",
    "# Extract the links (href attributes) from the <a> elements\n",
    "links = [base_url + element.find('a')['href'] for element in a_elements]\n",
    "\n",
    "# Create a dictionary to store the category names and their corresponding links\n",
    "stat_pages = dict(zip(tabs, links))\n",
    "\n",
    "# Print the dictionary as a table-like format using Pandas\n",
    "stat_pages_df = pd.DataFrame(list(stat_pages.items()), columns=['Category', 'Link'])\n",
    "\n",
    "print(stat_pages_df)"
   ]
  },
  {
   "cell_type": "code",
   "execution_count": 6,
   "metadata": {},
   "outputs": [],
   "source": [
    "# Create a dictionary to store the category names and their corresponding page links\n",
    "category_pages = {}\n",
    "\n",
    "# Loop through each category's link and scrape data\n",
    "for index, row in stat_pages_df.iterrows():\n",
    "    current_link = row['Link']\n",
    "    current_stat = row['Category']\n",
    "    page_count = 0  # Initialize page count\n",
    "    category_pages[current_stat] = {page_count: current_link}  # Initialize the category's dictionary\n",
    "    while current_link:\n",
    "        # Request raw HTML for the current page\n",
    "        response = requests.get(current_link)\n",
    "        \n",
    "        # Check if the request was successful\n",
    "        if response.status_code == 200:\n",
    "            # Create a BeautifulSoup object to parse the HTML\n",
    "            soup = BeautifulSoup(response.content, \"html.parser\")\n",
    "\n",
    "            # Scrape the data from the current page here\n",
    "            # (You can add your scraping logic here)\n",
    "            # Example: print(soup.title.text) to print the page title\n",
    "            \n",
    "            # Find the \"Next Page\" link\n",
    "            next_page_link = soup.find('a', class_='nfl-o-table-pagination__next')\n",
    "            \n",
    "            if next_page_link:\n",
    "                # Extract the 'href' attribute\n",
    "                href = next_page_link['href']\n",
    "\n",
    "                # Update current_link with the next page's URL\n",
    "                current_link = base_url + href\n",
    "                page_count += 1  # Increment page count\n",
    "                category_pages[current_stat][page_count] = current_link  # Add the link to the category's dictionary\n",
    "            else:\n",
    "                # No more pages to scrape, exit the loop\n",
    "                break\n",
    "        else:\n",
    "            print(\"Error: Unable to fetch the page.\")\n",
    "            break"
   ]
  },
  {
   "cell_type": "code",
   "execution_count": 7,
   "metadata": {},
   "outputs": [
    {
     "name": "stdout",
     "output_type": "stream",
     "text": [
      "{'Passing': {0: 'https://www.nfl.com/stats/player-stats/category/passing/2023/reg/all/passingyards/desc', 1: 'https://www.nfl.com/stats/player-stats/category/passing/2023/REG/all/passingyards/DESC?aftercursor=AAAAGQAAABlAYeAAAAAAADFleUp6WldGeVkyaEJablJsY2lJNld5SXhORE1pTENJek1qQXdOVEExTWkwME5USTRMVFUzTWpNdFpERmlNaTA1Tm1VNU1tVmlZekV5TkRFaUxDSXlNREl6SWwxOQ=='}, 'Rushing': {0: 'https://www.nfl.com/stats/player-stats/category/rushing/2023/reg/all/rushingyards/desc', 1: 'https://www.nfl.com/stats/player-stats/category/rushing/2023/REG/all/rushingyards/DESC?aftercursor=AAAAGQAAABdARoAAAAAAADFleUp6WldGeVkyaEJablJsY2lJNld5STBOU0lzSWpNeU1EQTFOelE1TFRSak16SXRPREkyT1MwMFlURTVMV1E0TlRGaFl6azVZbUV6WXlJc0lqSXdNak1pWFgwPQ==', 2: 'https://www.nfl.com/stats/player-stats/category/rushing/2023/REG/all/rushingyards/DESC?aftercursor=AAAAMgAAADBANgAAAAAAADFleUp6WldGeVkyaEJablJsY2lJNld5SXlNaUlzSWpNeU1EQTFORFF4TFRVNU5qRXRNRFUxTXkwNU1UZGpMVE5oTlRabE5XRTBZekkyWXlJc0lqSXdNak1pWFgwPQ==', 3: 'https://www.nfl.com/stats/player-stats/category/rushing/2023/REG/all/rushingyards/DESC?aftercursor=AAAASwAAAEZAJgAAAAAAADFleUp6WldGeVkyaEJablJsY2lJNld5SXhNU0lzSWpNeU1EQTFNelE0TFRReE1EZ3RPVFEwTnkwek5Ea3hMV1ZpTnpOaFpEQTNaV1l6TUNJc0lqSXdNak1pWFgwPQ==', 4: 'https://www.nfl.com/stats/player-stats/category/rushing/2023/REG/all/rushingyards/DESC?aftercursor=AAAAZAAAAGBAFAAAAAAAADFleUp6WldGeVkyaEJablJsY2lJNld5STFJaXdpTXpJd01EVTBOREV0TkdVeU9TMDROekUyTFRZME5ETXRZMk14TmpZell6UTNZV001SWl3aU1qQXlNeUpkZlE9PQ==', 5: 'https://www.nfl.com/stats/player-stats/category/rushing/2023/REG/all/rushingyards/DESC?aftercursor=AAAAfQAAAHzAAAAAAAAAADFleUp6WldGeVkyaEJablJsY2lJNld5SXRNaUlzSWpNeU1EQTBORFF4TFRVeU5EWXROakUwTVMwNVpUVmpMVFpsTjJRek1tRXdNMlV6TXlJc0lqSXdNak1pWFgwPQ=='}, 'Receiving': {0: 'https://www.nfl.com/stats/player-stats/category/receiving/2023/reg/all/receivingreceptions/desc', 1: 'https://www.nfl.com/stats/player-stats/category/receiving/2023/REG/all/receivingreceptions/DESC?aftercursor=AAAAGQAAAA5AGAAAAAAAADFleUp6WldGeVkyaEJablJsY2lJNld5STJJaXdpTXpJd01EVXpOVFF0TkRVM01DMHpNVE14TFRSbU1tRXROVE0zTmpBNE5qaGpNV1E0SWl3aU1qQXlNeUpkZlE9PQ==', 2: 'https://www.nfl.com/stats/player-stats/category/receiving/2023/REG/all/receivingreceptions/DESC?aftercursor=AAAAMgAAADBAEAAAAAAAADFleUp6WldGeVkyaEJablJsY2lJNld5STBJaXdpTXpJd01EUTBOR1l0TlRVd05DMHpNVFkxTFRVMk16a3RZVFl6TlRJNFpHRTJaalpsSWl3aU1qQXlNeUpkZlE9PQ==', 3: 'https://www.nfl.com/stats/player-stats/category/receiving/2023/REG/all/receivingreceptions/DESC?aftercursor=AAAASwAAAEZACAAAAAAAADFleUp6WldGeVkyaEJablJsY2lJNld5SXpJaXdpTXpJd01EUXlOVEl0TkdZME1TMHpNakU0TFdKbU56WXROVFJtTkRBME1tVXdNemsySWl3aU1qQXlNeUpkZlE9PQ==', 4: 'https://www.nfl.com/stats/player-stats/category/receiving/2023/REG/all/receivingreceptions/DESC?aftercursor=AAAAZAAAAEZACAAAAAAAADFleUp6WldGeVkyaEJablJsY2lJNld5SXpJaXdpTXpJd01EVXpOR010TkRFMU1DMHdNRGMzTFRNeE5XWXRORGRqWm1ZeU9EYzNZakl6SWl3aU1qQXlNeUpkZlE9PQ==', 5: 'https://www.nfl.com/stats/player-stats/category/receiving/2023/REG/all/receivingreceptions/DESC?aftercursor=AAAAfQAAAGlAAAAAAAAAADFleUp6WldGeVkyaEJablJsY2lJNld5SXlJaXdpTXpJd01EUTROVFV0TkRJeE55MDVNekkwTFdFMk0yUXRNekU1T1RJeFpHVTROV0ppSWl3aU1qQXlNeUpkZlE9PQ==', 6: 'https://www.nfl.com/stats/player-stats/category/receiving/2023/REG/all/receivingreceptions/DESC?aftercursor=AAAAlgAAAGlAAAAAAAAAADFleUp6WldGeVkyaEJablJsY2lJNld5SXlJaXdpTXpJd01EVXpORE10TkRnMk5DMDNNamN4TFRoak9XTXRPRGt6WlRaall6ZzROelZrSWl3aU1qQXlNeUpkZlE9PQ==', 7: 'https://www.nfl.com/stats/player-stats/category/receiving/2023/REG/all/receivingreceptions/DESC?aftercursor=AAAArwAAAKU_8AAAAAAAADFleUp6WldGeVkyaEJablJsY2lJNld5SXhJaXdpTXpJd01EUTFOVFl0TkRFeE1DMDFPVFkzTFdJeFlqZ3RPRFExWXpJMk1HVXhOVE14SWl3aU1qQXlNeUpkZlE9PQ==', 8: 'https://www.nfl.com/stats/player-stats/category/receiving/2023/REG/all/receivingreceptions/DESC?aftercursor=AAAAyAAAAKU_8AAAAAAAADFleUp6WldGeVkyaEJablJsY2lJNld5SXhJaXdpTXpJd01EVXlOR1l0TlRNMk1TMDJORGMyTFdZMFptSXROVEJtTURsbE5ETTNNRGM1SWl3aU1qQXlNeUpkZlE9PQ==', 9: 'https://www.nfl.com/stats/player-stats/category/receiving/2023/REG/all/receivingreceptions/DESC?aftercursor=AAAA4QAAANAAAAAAAAAAADFleUp6WldGeVkyaEJablJsY2lJNld5SXdJaXdpTXpJd01EUmlORFV0TkdNeU55MHlOREl3TFdJMlpESXROekV5TlRnM09HVTBOREJpSWl3aU1qQXlNeUpkZlE9PQ==', 10: 'https://www.nfl.com/stats/player-stats/category/receiving/2023/REG/all/receivingreceptions/DESC?aftercursor=AAAA7wAAANAAAAAAAAAAADFleUp6WldGeVkyaEJablJsY2lJNld5SXdJaXdpTXpJd01EVmlOR1V0TkdZd01DMHlOekF3TFRZNE5EZ3RObUpoT0RsbVpUbGtaVEV3SWl3aU1qQXlNeUpkZlE9PQ=='}, 'Fumbles': {0: 'https://www.nfl.com/stats/player-stats/category/fumbles/2023/reg/all/defensiveforcedfumble/desc', 1: 'https://www.nfl.com/stats/player-stats/category/fumbles/2023/REG/all/defensiveforcedfumble/DESC?aftercursor=AAAAGQAAAAM_8AAAAAAAADFleUp6WldGeVkyaEJablJsY2lJNld5SXhJaXdpTXpJd01EVXpOVEF0TkRVeE55MDFNemd5TFRJMVlXTXRPR00zTVdReU9XVmtOMlptSWl3aU1qQXlNeUpkZlE9PQ==', 2: 'https://www.nfl.com/stats/player-stats/category/fumbles/2023/REG/all/defensiveforcedfumble/DESC?aftercursor=AAAAMgAAABwAAAAAAAAAADFleUp6WldGeVkyaEJablJsY2lJNld5SXdJaXdpTXpJd01EUXhOVGN0TlRVNE1DMHdPVEl3TFdRek0yUXRPVFExTVdNNE1XWTJZMkppSWl3aU1qQXlNeUpkZlE9PQ==', 3: 'https://www.nfl.com/stats/player-stats/category/fumbles/2023/REG/all/defensiveforcedfumble/DESC?aftercursor=AAAASwAAABwAAAAAAAAAADFleUp6WldGeVkyaEJablJsY2lJNld5SXdJaXdpTXpJd01EUXlOR010TkRFek5TMHdNemcxTFRGaVptUXRZall4WkdaaU5XWXlNbVl6SWl3aU1qQXlNeUpkZlE9PQ==', 4: 'https://www.nfl.com/stats/player-stats/category/fumbles/2023/REG/all/defensiveforcedfumble/DESC?aftercursor=AAAAZAAAABwAAAAAAAAAADFleUp6WldGeVkyaEJablJsY2lJNld5SXdJaXdpTXpJd01EUXlOVFV0TkdNek5pMDJNemM0TFRVek5USXRZbU5rTWpkbU5UQmpNalkxSWl3aU1qQXlNeUpkZlE9PQ==', 5: 'https://www.nfl.com/stats/player-stats/category/fumbles/2023/REG/all/defensiveforcedfumble/DESC?aftercursor=AAAAfQAAABwAAAAAAAAAADFleUp6WldGeVkyaEJablJsY2lJNld5SXdJaXdpTXpJd01EUXpOR1l0TkdZd01TMDJPVEF3TFRoaE9ERXRZekF4T1RVeVptVXpaakJtSWl3aU1qQXlNeUpkZlE9PQ==', 6: 'https://www.nfl.com/stats/player-stats/category/fumbles/2023/REG/all/defensiveforcedfumble/DESC?aftercursor=AAAAlgAAABwAAAAAAAAAADFleUp6WldGeVkyaEJablJsY2lJNld5SXdJaXdpTXpJd01EUTBOR1l0TkdVeE15MDBPVGMzTFdSaE1ERXROR1V5WmpBNE1tUmxNemhpSWl3aU1qQXlNeUpkZlE9PQ==', 7: 'https://www.nfl.com/stats/player-stats/category/fumbles/2023/REG/all/defensiveforcedfumble/DESC?aftercursor=AAAArwAAABwAAAAAAAAAADFleUp6WldGeVkyaEJablJsY2lJNld5SXdJaXdpTXpJd01EUTJORGt0TlRRM09DMDNNamt3TFdRM1pEZ3RORGRqT1dObE9XTmlZakprSWl3aU1qQXlNeUpkZlE9PQ==', 8: 'https://www.nfl.com/stats/player-stats/category/fumbles/2023/REG/all/defensiveforcedfumble/DESC?aftercursor=AAAAyAAAABwAAAAAAAAAADFleUp6WldGeVkyaEJablJsY2lJNld5SXdJaXdpTXpJd01EUTNORGt0TkdNM05TMDBOVGM1TFRJeFlXRXRaR0V3TURFeVlUWTFOR1JrSWl3aU1qQXlNeUpkZlE9PQ==', 9: 'https://www.nfl.com/stats/player-stats/category/fumbles/2023/REG/all/defensiveforcedfumble/DESC?aftercursor=AAAA4QAAABwAAAAAAAAAADFleUp6WldGeVkyaEJablJsY2lJNld5SXdJaXdpTXpJd01EUTROREV0TkdVeE5pMDVPVEF5TFRjNE9HWXRZemt3TWpKbE1qRm1NMlZrSWl3aU1qQXlNeUpkZlE9PQ==', 10: 'https://www.nfl.com/stats/player-stats/category/fumbles/2023/REG/all/defensiveforcedfumble/DESC?aftercursor=AAAA-gAAABwAAAAAAAAAADFleUp6WldGeVkyaEJablJsY2lJNld5SXdJaXdpTXpJd01EUTRORGt0TkdVeU5DMHdPREUxTFdZek5URXRaamsxTnpBeE56WTNaVGxsSWl3aU1qQXlNeUpkZlE9PQ==', 11: 'https://www.nfl.com/stats/player-stats/category/fumbles/2023/REG/all/defensiveforcedfumble/DESC?aftercursor=AAABEwAAABwAAAAAAAAAADFleUp6WldGeVkyaEJablJsY2lJNld5SXdJaXdpTXpJd01EUmhOREV0TkRNd01DMHdNREEwTFdFeFlqa3ROall6TVdFNU5URmlObVUxSWl3aU1qQXlNeUpkZlE9PQ==', 12: 'https://www.nfl.com/stats/player-stats/category/fumbles/2023/REG/all/defensiveforcedfumble/DESC?aftercursor=AAABLAAAABwAAAAAAAAAADFleUp6WldGeVkyaEJablJsY2lJNld5SXdJaXdpTXpJd01EUmhOR1l0TkdVME9TMDFNamd3TFRSbFpXUXRNVGN4TXpBeFpEVXpPR0l3SWl3aU1qQXlNeUpkZlE9PQ==', 13: 'https://www.nfl.com/stats/player-stats/category/fumbles/2023/REG/all/defensiveforcedfumble/DESC?aftercursor=AAABRQAAABwAAAAAAAAAADFleUp6WldGeVkyaEJablJsY2lJNld5SXdJaXdpTXpJd01EUmpOREV0TlRjeU9DMHlNVEU0TFdWa1lXSXRORGs0WmpJM01qUXdZalptSWl3aU1qQXlNeUpkZlE9PQ==', 14: 'https://www.nfl.com/stats/player-stats/category/fumbles/2023/REG/all/defensiveforcedfumble/DESC?aftercursor=AAABXgAAABwAAAAAAAAAADFleUp6WldGeVkyaEJablJsY2lJNld5SXdJaXdpTXpJd01EUmtOREV0TlRReE9TMDFOalF5TFRZMk16WXRNV1UwWTJNeU1XVTNOREprSWl3aU1qQXlNeUpkZlE9PQ==', 15: 'https://www.nfl.com/stats/player-stats/category/fumbles/2023/REG/all/defensiveforcedfumble/DESC?aftercursor=AAABdwAAABwAAAAAAAAAADFleUp6WldGeVkyaEJablJsY2lJNld5SXdJaXdpTXpJd01EUmtOR1l0TlRJME9DMHdPRE14TFRFek1qSXRNbVZqTkdWbE5tRmpZMkkwSWl3aU1qQXlNeUpkZlE9PQ==', 16: 'https://www.nfl.com/stats/player-stats/category/fumbles/2023/REG/all/defensiveforcedfumble/DESC?aftercursor=AAABkAAAABwAAAAAAAAAADFleUp6WldGeVkyaEJablJsY2lJNld5SXdJaXdpTXpJd01EUm1OR1V0TlRreE5pMDBORGd4TFRsak5qQXRaR1EwWmpSbE5qUTBPRE00SWl3aU1qQXlNeUpkZlE9PQ==', 17: 'https://www.nfl.com/stats/player-stats/category/fumbles/2023/REG/all/defensiveforcedfumble/DESC?aftercursor=AAABqQAAABwAAAAAAAAAADFleUp6WldGeVkyaEJablJsY2lJNld5SXdJaXdpTXpJd01EVXhOVFV0TkRVek1DMDRPREEyTFRFMk9HRXROMlU1WldVelltUXpaamsySWl3aU1qQXlNeUpkZlE9PQ==', 18: 'https://www.nfl.com/stats/player-stats/category/fumbles/2023/REG/all/defensiveforcedfumble/DESC?aftercursor=AAABwgAAABwAAAAAAAAAADFleUp6WldGeVkyaEJablJsY2lJNld5SXdJaXdpTXpJd01EVXlOR1l0TldFd05DMDVPRE0wTFRFNU5tRXROelEzTlRNM1pHRm1aak16SWl3aU1qQXlNeUpkZlE9PQ==', 19: 'https://www.nfl.com/stats/player-stats/category/fumbles/2023/REG/all/defensiveforcedfumble/DESC?aftercursor=AAAB2wAAABwAAAAAAAAAADFleUp6WldGeVkyaEJablJsY2lJNld5SXdJaXdpTXpJd01EVXpOVEF0TkRrek1pMDVOakkzTFdabE9ESXRaamRtT1RjeU5HTXdNekkxSWl3aU1qQXlNeUpkZlE9PQ==', 20: 'https://www.nfl.com/stats/player-stats/category/fumbles/2023/REG/all/defensiveforcedfumble/DESC?aftercursor=AAAB9AAAABwAAAAAAAAAADFleUp6WldGeVkyaEJablJsY2lJNld5SXdJaXdpTXpJd01EVTBORGd0TkdZd05pMHpOelExTFRFd01URXRZbVZrTURBME1XVXlOMkV5SWl3aU1qQXlNeUpkZlE9PQ==', 21: 'https://www.nfl.com/stats/player-stats/category/fumbles/2023/REG/all/defensiveforcedfumble/DESC?aftercursor=AAACDQAAABwAAAAAAAAAADFleUp6WldGeVkyaEJablJsY2lJNld5SXdJaXdpTXpJd01EVTBOVFV0TlRRM01DMHpOREF3TFRaa01UVXRORFJoWm1JNE5HUTFPR0k1SWl3aU1qQXlNeUpkZlE9PQ==', 22: 'https://www.nfl.com/stats/player-stats/category/fumbles/2023/REG/all/defensiveforcedfumble/DESC?aftercursor=AAACJgAAABwAAAAAAAAAADFleUp6WldGeVkyaEJablJsY2lJNld5SXdJaXdpTXpJd01EVTNORGd0TkRrek1TMDFOalEyTFRNME56a3ROMlpsWVdRNFl6ZG1OV0U0SWl3aU1qQXlNeUpkZlE9PQ==', 23: 'https://www.nfl.com/stats/player-stats/category/fumbles/2023/REG/all/defensiveforcedfumble/DESC?aftercursor=AAACPwAAABwAAAAAAAAAADFleUp6WldGeVkyaEJablJsY2lJNld5SXdJaXdpTXpJd01EVTNOR1l0TkdZeE9DMDFOemd3TFdRM05ETXRaVFF5WVRVeU16QXlOVEZtSWl3aU1qQXlNeUpkZlE9PQ==', 24: 'https://www.nfl.com/stats/player-stats/category/fumbles/2023/REG/all/defensiveforcedfumble/DESC?aftercursor=AAACSQAAABwAAAAAAAAAADFleUp6WldGeVkyaEJablJsY2lJNld5SXdJaXdpTXpJd01EVmlOR1V0TkdZd01DMHlOVEl3TFdOaU5qRXRaV0poWmpGa01XSXlPREprSWl3aU1qQXlNeUpkZlE9PQ=='}, 'Tackles': {0: 'https://www.nfl.com/stats/player-stats/category/tackles/2023/reg/all/defensivecombinetackles/desc', 1: 'https://www.nfl.com/stats/player-stats/category/tackles/2023/REG/all/defensivecombinetackles/DESC?aftercursor=AAAAGQAAABRAJAAAAAAAADFleUp6WldGeVkyaEJablJsY2lJNld5SXhNQzR3SWl3aU16SXdNRFF6TlRVdE5USXhOUzAyT0RjeUxUWTJPRFV0TlRnMVpqaGpPR1UwWm1ZNUlpd2lNakF5TXlKZGZRPT0=', 2: 'https://www.nfl.com/stats/player-stats/category/tackles/2023/REG/all/defensivecombinetackles/DESC?aftercursor=AAAAMgAAAChAIAAAAAAAADFleUp6WldGeVkyaEJablJsY2lJNld5STRMakFpTENJek1qQXdOR1EwTXkwME5EZ3lMVFF5T1RZdE56a3pZeTAzT1dKbE56UmpNR1U1Wm1RaUxDSXlNREl6SWwxOQ==', 3: 'https://www.nfl.com/stats/player-stats/category/tackles/2023/REG/all/defensivecombinetackles/DESC?aftercursor=AAAASwAAAD1AHAAAAAAAADFleUp6WldGeVkyaEJablJsY2lJNld5STNMakFpTENJek1qQXdORGcwT1MwME56VTVMVFU0TXpJdE1qRmpaUzB3TnpJM05Ea3dNR0l6TXpBaUxDSXlNREl6SWwxOQ==', 4: 'https://www.nfl.com/stats/player-stats/category/tackles/2023/REG/all/defensivecombinetackles/DESC?aftercursor=AAAAZAAAAFRAGAAAAAAAADFleUp6WldGeVkyaEJablJsY2lJNld5STJMakFpTENJek1qQXdORFkxTlMwMFl6TTBMVEkyTVRRdFpUZ3paaTAyWVRkaE5tWTNZMkZpTWpVaUxDSXlNREl6SWwxOQ==', 5: 'https://www.nfl.com/stats/player-stats/category/tackles/2023/REG/all/defensivecombinetackles/DESC?aftercursor=AAAAewAAAFRAGAAAAAAAADFleUp6WldGeVkyaEJablJsY2lJNld5STJMakFpTENJek1qQXdOV0kwWlMwMFpqQXdMVE13TURBdE4ySTNOaTA0WkRsa01XRXpPV000TmpBaUxDSXlNREl6SWwxOQ==', 6: 'https://www.nfl.com/stats/player-stats/category/tackles/2023/REG/all/defensivecombinetackles/DESC?aftercursor=AAAAlAAAAHxAFAAAAAAAADFleUp6WldGeVkyaEJablJsY2lJNld5STFMakFpTENJek1qQXdOR1EwTVMwMU5ERTVMVFUyTkRJdE5qWXpOaTB4WlRSall6SXhaVGMwTW1RaUxDSXlNREl6SWwxOQ==', 7: 'https://www.nfl.com/stats/player-stats/category/tackles/2023/REG/all/defensivecombinetackles/DESC?aftercursor=AAAArAAAAKdAEAAAAAAAADFleUp6WldGeVkyaEJablJsY2lJNld5STBMakFpTENJek1qQXdOREkxTlMwMFl6TTJMVFl6TnpndE5UTTFNaTFpWTJReU4yWTFNR015TmpVaUxDSXlNREl6SWwxOQ==', 8: 'https://www.nfl.com/stats/player-stats/category/tackles/2023/REG/all/defensivecombinetackles/DESC?aftercursor=AAAAxQAAAKdAEAAAAAAAADFleUp6WldGeVkyaEJablJsY2lJNld5STBMakFpTENJek1qQXdOR1ExTlMwMU1qWXhMVFUyTVRndE1UY3lZUzFqWkRGbVpXSXlPVFZsTm1VaUxDSXlNREl6SWwxOQ==', 9: 'https://www.nfl.com/stats/player-stats/category/tackles/2023/REG/all/defensivecombinetackles/DESC?aftercursor=AAAA3AAAAKdAEAAAAAAAADFleUp6WldGeVkyaEJablJsY2lJNld5STBMakFpTENJek1qQXdOV0kwWlMwMFpqQXdMVEl4TWpBdE5tWTFZUzFrTVdWak9USmhPV1V3TURZaUxDSXlNREl6SWwxOQ==', 10: 'https://www.nfl.com/stats/player-stats/category/tackles/2023/REG/all/defensivecombinetackles/DESC?aftercursor=AAAA8gAAAN1ACAAAAAAAADFleUp6WldGeVkyaEJablJsY2lJNld5SXpMakFpTENJek1qQXdORFkwTVMwMU5EWTFMVEkyTURFdE1UQTRPUzAxTm1JeE1UWXlOVFprWlRnaUxDSXlNREl6SWwxOQ==', 11: 'https://www.nfl.com/stats/player-stats/category/tackles/2023/REG/all/defensivecombinetackles/DESC?aftercursor=AAABCwAAAN1ACAAAAAAAADFleUp6WldGeVkyaEJablJsY2lJNld5SXpMakFpTENJek1qQXdOR1EwTVMwMU1EYzNMVFV6T0RVdFlUazNOeTAyT1RneE1UbGxPVFF4TURnaUxDSXlNREl6SWwxOQ==', 12: 'https://www.nfl.com/stats/player-stats/category/tackles/2023/REG/all/defensivecombinetackles/DESC?aftercursor=AAABJAAAAN1ACAAAAAAAADFleUp6WldGeVkyaEJablJsY2lJNld5SXpMakFpTENJek1qQXdOVFEwTVMwMU9UZ3hMVEkxTkRFdE9HVXlOUzA1TURZNFpUaGhNbVF5T0RZaUxDSXlNREl6SWwxOQ==', 13: 'https://www.nfl.com/stats/player-stats/category/tackles/2023/REG/all/defensivecombinetackles/DESC?aftercursor=AAABOQAAATJAAAAAAAAAADFleUp6WldGeVkyaEJablJsY2lJNld5SXlMakFpTENJek1qQXdOREkwTVMwMU1qTXlMVEl4TURRdFpqTm1aUzFpWldFMU1qWmtPR1V3WVRJaUxDSXlNREl6SWwxOQ==', 14: 'https://www.nfl.com/stats/player-stats/category/tackles/2023/REG/all/defensivecombinetackles/DESC?aftercursor=AAABUgAAATJAAAAAAAAAADFleUp6WldGeVkyaEJablJsY2lJNld5SXlMakFpTENJek1qQXdORGMwWmkwMFl6WTVMVGswTWprdE16Sm1OUzAzWVdGaFkyTXpNR00wWkRFaUxDSXlNREl6SWwxOQ==', 15: 'https://www.nfl.com/stats/player-stats/category/tackles/2023/REG/all/defensivecombinetackles/DESC?aftercursor=AAABawAAATJAAAAAAAAAADFleUp6WldGeVkyaEJablJsY2lJNld5SXlMakFpTENJek1qQXdOVEEwTVMwMU9USTRMVEV5TWpJdE5tRm1ZUzAwTVdWak9USTFOakkzWVRRaUxDSXlNREl6SWwxOQ==', 16: 'https://www.nfl.com/stats/player-stats/category/tackles/2023/REG/all/defensivecombinetackles/DESC?aftercursor=AAABhAAAATJAAAAAAAAAADFleUp6WldGeVkyaEJablJsY2lJNld5SXlMakFpTENJek1qQXdOVGMwT1MwMFl6UXlMVFkwTVRFdE1XTmxZaTB4Tm1ZMFkyVmlOelE1WkRBaUxDSXlNREl6SWwxOQ==', 17: 'https://www.nfl.com/stats/player-stats/category/tackles/2023/REG/all/defensivecombinetackles/DESC?aftercursor=AAABlQAAAYw_8AAAAAAAADFleUp6WldGeVkyaEJablJsY2lJNld5SXhMakFpTENJek1qQXdOREkwWmkwMFl6RTJMVGMyT1RjdFlqQXlaQzB4TTJJeE5HUXhZVGhtWlRJaUxDSXlNREl6SWwxOQ==', 18: 'https://www.nfl.com/stats/player-stats/category/tackles/2023/REG/all/defensivecombinetackles/DESC?aftercursor=AAABrgAAAYw_8AAAAAAAADFleUp6WldGeVkyaEJablJsY2lJNld5SXhMakFpTENJek1qQXdORFUwWXkwMFl6TXlMVE01TlRVdE1UWXpaaTFqT0RCalpXRXhaVEF6WkRRaUxDSXlNREl6SWwxOQ==', 19: 'https://www.nfl.com/stats/player-stats/category/tackles/2023/REG/all/defensivecombinetackles/DESC?aftercursor=AAABxwAAAYw_8AAAAAAAADFleUp6WldGeVkyaEJablJsY2lJNld5SXhMakFpTENJek1qQXdORGcwTlMwMU16SXdMVGt4TkRVdFlUSmlaQzAxTURjMlltRmlNVEJtWkdFaUxDSXlNREl6SWwxOQ==', 20: 'https://www.nfl.com/stats/player-stats/category/tackles/2023/REG/all/defensivecombinetackles/DESC?aftercursor=AAAB4AAAAYw_8AAAAAAAADFleUp6WldGeVkyaEJablJsY2lJNld5SXhMakFpTENJek1qQXdOR0kxTUMwME1UVTVMVE15TnpRdE16ZzVZaTB4TmpRd05EUmpObVZtTURVaUxDSXlNREl6SWwxOQ==', 21: 'https://www.nfl.com/stats/player-stats/category/tackles/2023/REG/all/defensivecombinetackles/DESC?aftercursor=AAAB-QAAAYw_8AAAAAAAADFleUp6WldGeVkyaEJablJsY2lJNld5SXhMakFpTENJek1qQXdOR1UwTVMwME9UQTJMVGMwT0RRdFpHSm1ZaTA0TURBek1tUmlOV0V4WW1FaUxDSXlNREl6SWwxOQ==', 22: 'https://www.nfl.com/stats/player-stats/category/tackles/2023/REG/all/defensivecombinetackles/DESC?aftercursor=AAACEgAAAYw_8AAAAAAAADFleUp6WldGeVkyaEJablJsY2lJNld5SXhMakFpTENJek1qQXdOVE0wT0MwME5UUTVMVFUzTlRRdE5UWTVOeTB5WVRnek1USmxaR00wT0RraUxDSXlNREl6SWwxOQ==', 23: 'https://www.nfl.com/stats/player-stats/category/tackles/2023/REG/all/defensivecombinetackles/DESC?aftercursor=AAACKwAAAYw_8AAAAAAAADFleUp6WldGeVkyaEJablJsY2lJNld5SXhMakFpTENJek1qQXdOVFkwT1MwMFl6QTJMVGt5TVRVdFpqYzNPUzB3TlRZeFpURTVOVE0xT0RRaUxDSXlNREl6SWwxOQ==', 24: 'https://www.nfl.com/stats/player-stats/category/tackles/2023/REG/all/defensivecombinetackles/DESC?aftercursor=AAACPQAAAjoAAAAAAAAAADFleUp6WldGeVkyaEJablJsY2lJNld5SXdMakFpTENJek1qQXdORFkwWmkwMU56TTRMVEkzT0RVdFpqZ3hZUzFtTm1Rek5qZGpaVEUyT0RZaUxDSXlNREl6SWwxOQ=='}, 'Interceptions': {0: 'https://www.nfl.com/stats/player-stats/category/interceptions/2023/reg/all/defensiveinterceptions/desc'}, 'Field Goals': {0: 'https://www.nfl.com/stats/player-stats/category/field-goals/2023/reg/all/kickingfgmade/desc', 1: 'https://www.nfl.com/stats/player-stats/category/field-goals/2023/REG/all/kickingfgmade/DESC?aftercursor=AAAAGQAAABE_8AAAAAAAADFleUp6WldGeVkyaEJablJsY2lJNld5SXhJaXdpTXpJd01EVTBOVFV0TkRNeU1pMDBOalF6TFdZM01HVXRZVEkwWWpkalpUbGtZakEzSWl3aU1qQXlNeUpkZlE9PQ=='}, 'Kickoffs': {0: 'https://www.nfl.com/stats/player-stats/category/kickoffs/2023/reg/all/kickofftotal/desc', 1: 'https://www.nfl.com/stats/player-stats/category/kickoffs/2023/REG/all/kickofftotal/DESC?aftercursor=AAAAGQAAABJAEAAAAAAAADFleUp6WldGeVkyaEJablJsY2lJNld5STBJaXdpTXpJd01EVXpOR010TlRreU1DMDNOalExTFRZNVlXWXRORFZqWkRGa056QXpZMk15SWl3aU1qQXlNeUpkZlE9PQ=='}, 'Kickoff Returns': {0: 'https://www.nfl.com/stats/player-stats/category/kickoff-returns/2023/reg/all/kickreturnsaverageyards/desc'}, 'Punting': {0: 'https://www.nfl.com/stats/player-stats/category/punts/2023/reg/all/puntingaverageyards/desc', 1: 'https://www.nfl.com/stats/player-stats/category/punts/2023/REG/all/puntingaverageyards/DESC?aftercursor=AAAAGQAAABlARSo9cKPXCjFleUp6WldGeVkyaEJablJsY2lJNld5STBNaTR6TXlJc0lqTXlNREEwT0RReExUVXlPREl0T1RVNU1pMDRZemRpTFRjM05EWTBaams0WmpnNE15SXNJakl3TWpNaVhYMD0='}, 'Punt Returns': {0: 'https://www.nfl.com/stats/player-stats/category/punt-returns/2023/reg/all/puntreturnsaverageyards/desc', 1: 'https://www.nfl.com/stats/player-stats/category/punt-returns/2023/REG/all/puntreturnsaverageyards/DESC?aftercursor=AAAAGQAAABlACAAAAAAAADFleUp6WldGeVkyaEJablJsY2lJNld5SXpMakFpTENJek1qQXdORFEwTVMwMU5qSTJMVE14TXpJdFltRmlNQzAwWmpWaE0ySTFaVEUyTnpFaUxDSXlNREl6SWwxOQ=='}}\n"
     ]
    }
   ],
   "source": [
    "# Print the dictionary of category pages\n",
    "print(category_pages)\n",
    "#category_pages[\"Passing\"][0] # get first link of passing stat tab"
   ]
  },
  {
   "cell_type": "markdown",
   "metadata": {},
   "source": [
    "#### Export DataFrame"
   ]
  },
  {
   "cell_type": "code",
   "execution_count": 8,
   "metadata": {},
   "outputs": [
    {
     "name": "stdout",
     "output_type": "stream",
     "text": [
      "Directory \"data\\week1\" has been created.\n",
      "DataFrame for category \"Passing\" has been exported to data\\week1\\Passing.csv\n",
      "DataFrame for category \"Rushing\" has been exported to data\\week1\\Rushing.csv\n",
      "DataFrame for category \"Receiving\" has been exported to data\\week1\\Receiving.csv\n",
      "DataFrame for category \"Fumbles\" has been exported to data\\week1\\Fumbles.csv\n",
      "DataFrame for category \"Tackles\" has been exported to data\\week1\\Tackles.csv\n",
      "DataFrame for category \"Interceptions\" has been exported to data\\week1\\Interceptions.csv\n",
      "DataFrame for category \"Field Goals\" has been exported to data\\week1\\Field Goals.csv\n",
      "DataFrame for category \"Kickoffs\" has been exported to data\\week1\\Kickoffs.csv\n",
      "DataFrame for category \"Kickoff Returns\" has been exported to data\\week1\\Kickoff Returns.csv\n",
      "DataFrame for category \"Punting\" has been exported to data\\week1\\Punting.csv\n",
      "DataFrame for category \"Punt Returns\" has been exported to data\\week1\\Punt Returns.csv\n"
     ]
    }
   ],
   "source": [
    "# Combine the base directory path with the current week\n",
    "directory_path = os.path.join('data', 'week' + str(current_week))\n",
    "\n",
    "# Check if the directory exists\n",
    "if not os.path.exists(directory_path):\n",
    "    # Create the directory if it doesn't exist\n",
    "    os.makedirs(directory_path)\n",
    "    print(f'Directory \"{directory_path}\" has been created.')\n",
    "else:\n",
    "    print(f'Directory \"{directory_path}\" already exists.')\n",
    "\n",
    "# Loop through each category in category_pages\n",
    "for category, links in category_pages.items():\n",
    "    # Initialize a list to store DataFrames\n",
    "    dataframes = []\n",
    "\n",
    "    # Loop through the links for the current category\n",
    "    for page, link in enumerate(links):\n",
    "        # Request raw HTML for the current page\n",
    "        response = requests.get(links[link])\n",
    "\n",
    "        # Check if the request was successful\n",
    "        if response.status_code == 200:\n",
    "            # Create a BeautifulSoup object to parse the HTML\n",
    "            soup = BeautifulSoup(response.content, \"html.parser\")\n",
    "\n",
    "            # Find all elements with the class 'd3-o-player-stats--detailed'\n",
    "            stats = soup.find_all(attrs={\"class\": 'd3-o-player-stats--detailed'})\n",
    "\n",
    "            # Initialize lists to collect data\n",
    "            stat_val = []\n",
    "            stat_col = []\n",
    "\n",
    "            # Loop through each <tr> element to extract and collect the text from <td> elements\n",
    "            for row in stats:\n",
    "                # This gets the stat names\n",
    "                header_cells = row.find_all('th')\n",
    "\n",
    "                if len(header_cells) > 0:\n",
    "                    for cell in header_cells:\n",
    "                        stat_col.append(cell.get_text(strip=True))\n",
    "\n",
    "                # This gets the stats\n",
    "                data_cells = row.find_all('td')\n",
    "\n",
    "                if len(data_cells) > 0:\n",
    "                    for cell in data_cells:\n",
    "                        stat_val.append(cell.get_text(strip=True))\n",
    "\n",
    "            # Determine the number of columns in each row\n",
    "            num_columns = len(stat_col) if stat_col else 1  # Use 1 if stat_col is empty\n",
    "\n",
    "            # Split the list into rows\n",
    "            rows = [stat_val[i:i + num_columns] for i in range(0, len(stat_val), num_columns)]\n",
    "\n",
    "            # Create a DataFrame for the current category and page\n",
    "            df = pd.DataFrame(rows, columns=stat_col)\n",
    "\n",
    "            # Convert all columns except \"Player\" to numeric\n",
    "            numeric_columns = df.columns.difference(['Player'])\n",
    "            df[numeric_columns] = df[numeric_columns].apply(pd.to_numeric, errors='coerce')\n",
    "\n",
    "            # Add the DataFrame to the list\n",
    "            dataframes.append(df)\n",
    "        else:\n",
    "            print(\"Error: Unable to fetch the page.\")\n",
    "            break\n",
    "\n",
    "    # Combine all DataFrames into one final DataFrame\n",
    "    final_df = pd.concat(dataframes, ignore_index=True)\n",
    "\n",
    "    # Specify the file path where you want to save the CSV file\n",
    "    csv_file_path = os.path.join(directory_path, category + '.csv')\n",
    "\n",
    "    # Export the DataFrame to a CSV file\n",
    "    final_df.to_csv(csv_file_path, index=False)  # Set index=False to exclude the index column\n",
    "\n",
    "    print(f'DataFrame for category \"{category}\" has been exported to {csv_file_path}')\n"
   ]
  }
 ],
 "metadata": {
  "kernelspec": {
   "display_name": "Python 3",
   "language": "python",
   "name": "python3"
  },
  "language_info": {
   "codemirror_mode": {
    "name": "ipython",
    "version": 3
   },
   "file_extension": ".py",
   "mimetype": "text/x-python",
   "name": "python",
   "nbconvert_exporter": "python",
   "pygments_lexer": "ipython3",
   "version": "3.7.8"
  }
 },
 "nbformat": 4,
 "nbformat_minor": 2
}
