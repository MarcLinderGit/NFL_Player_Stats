{
 "cells": [
  {
   "cell_type": "markdown",
   "metadata": {},
   "source": [
    "## Import Functions"
   ]
  },
  {
   "cell_type": "code",
   "execution_count": null,
   "metadata": {},
   "outputs": [],
   "source": [
    "# Import functions from frunctions.ipynb\n",
    "# in Python: from functions import *\n",
    "%run functions.ipynb"
   ]
  },
  {
   "cell_type": "markdown",
   "metadata": {},
   "source": [
    "## Import Libraries"
   ]
  },
  {
   "cell_type": "code",
   "execution_count": null,
   "metadata": {},
   "outputs": [],
   "source": [
    "import datetime"
   ]
  },
  {
   "cell_type": "markdown",
   "metadata": {},
   "source": [
    "## Set parameters"
   ]
  },
  {
   "cell_type": "code",
   "execution_count": null,
   "metadata": {},
   "outputs": [],
   "source": [
    "# Get the current date\n",
    "current_date = datetime.date.today()\n",
    "\n",
    "# Define the start date of an NFL season (in 2023: 07. September)\n",
    "nfl_season_start_date = datetime.date(current_date.year, 9, 7)\n",
    "\n",
    "# Calculate the current NFL season\n",
    "if current_date < nfl_season_start_date:\n",
    "    current_season = current_date.year - 1\n",
    "else:\n",
    "    current_season = current_date.year\n",
    "\n",
    "# Calculate the current NFL week (assuming a 17-week regular season)\n",
    "days_since_season_start = (current_date - nfl_season_start_date).days\n",
    "current_week = min((days_since_season_start // 7) + 1, 17)\n",
    "\n",
    "# Print the current season and week\n",
    "print(\"Current NFL Season:\", current_season)\n",
    "print(\"Current NFL Week:\", current_week)\n"
   ]
  },
  {
   "cell_type": "markdown",
   "metadata": {},
   "source": [
    "## Scrape Data"
   ]
  },
  {
   "cell_type": "markdown",
   "metadata": {},
   "source": [
    "### Get Current Season Data"
   ]
  },
  {
   "cell_type": "code",
   "execution_count": null,
   "metadata": {},
   "outputs": [],
   "source": [
    "# Get stats for both player and team level in specificed season\n",
    "for level in [\"player\", \"team\"]:\n",
    "    get_stats(level, season = \"1990\")"
   ]
  },
  {
   "cell_type": "markdown",
   "metadata": {},
   "source": [
    "### Get Historic Data"
   ]
  },
  {
   "cell_type": "code",
   "execution_count": null,
   "metadata": {},
   "outputs": [],
   "source": [
    "# Create a list of years as strings since 1970\n",
    "seasons = [str(year) for year in range(1970, current_season-1)]\n",
    "\n",
    "for season in seasons:\n",
    "    for level in [\"player\", \"team\"]:\n",
    "        get_stats(level, season)"
   ]
  },
  {
   "cell_type": "code",
   "execution_count": null,
   "metadata": {},
   "outputs": [],
   "source": []
  }
 ],
 "metadata": {
  "kernelspec": {
   "display_name": "base",
   "language": "python",
   "name": "python3"
  },
  "language_info": {
   "codemirror_mode": {
    "name": "ipython",
    "version": 3
   },
   "file_extension": ".py",
   "mimetype": "text/x-python",
   "name": "python",
   "nbconvert_exporter": "python",
   "pygments_lexer": "ipython3",
   "version": "3.11.5"
  },
  "orig_nbformat": 4
 },
 "nbformat": 4,
 "nbformat_minor": 2
}
