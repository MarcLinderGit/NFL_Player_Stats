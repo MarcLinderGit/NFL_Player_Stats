{
 "cells": [
  {
   "cell_type": "code",
   "execution_count": 4,
   "metadata": {},
   "outputs": [],
   "source": [
    "# Import functions from frunctions.ipynb\n",
    "# in Python: from functions import *\n",
    "%run functions.ipynb\n"
   ]
  },
  {
   "cell_type": "markdown",
   "metadata": {},
   "source": [
    "### Set parameters"
   ]
  },
  {
   "cell_type": "code",
   "execution_count": 10,
   "metadata": {},
   "outputs": [],
   "source": [
    "# Set current week (only relevant for current season data)\n",
    "current_week = 1\n",
    "\n",
    "# Set current season (will adjust output folders, as passed seasons only offer aggregate not weekly results)\n",
    "current_season = \"2023\""
   ]
  },
  {
   "cell_type": "markdown",
   "metadata": {},
   "source": [
    "### Get Current Season Data"
   ]
  },
  {
   "cell_type": "code",
   "execution_count": null,
   "metadata": {},
   "outputs": [],
   "source": [
    "# Get stats for both player and team level in specificed season\n",
    "for level in [\"player\", \"team\"]:\n",
    "    get_stats(level, season = \"1994\")"
   ]
  },
  {
   "cell_type": "markdown",
   "metadata": {},
   "source": [
    "### Get Historic Data"
   ]
  },
  {
   "cell_type": "code",
   "execution_count": null,
   "metadata": {},
   "outputs": [],
   "source": [
    "# hist - Example usage:\n",
    "levels = [\"player\", \"team\"]\n",
    "# Create a list of years as strings from 1970 to 2022\n",
    "seasons = [str(year) for year in range(1970, 2023)]\n",
    "\n",
    "for season in seasons:\n",
    "    for level in levels:\n",
    "        get_stats(level, season)"
   ]
  }
 ],
 "metadata": {
  "kernelspec": {
   "display_name": "base",
   "language": "python",
   "name": "python3"
  },
  "language_info": {
   "codemirror_mode": {
    "name": "ipython",
    "version": 3
   },
   "file_extension": ".py",
   "mimetype": "text/x-python",
   "name": "python",
   "nbconvert_exporter": "python",
   "pygments_lexer": "ipython3",
   "version": "3.7.8"
  },
  "orig_nbformat": 4
 },
 "nbformat": 4,
 "nbformat_minor": 2
}
