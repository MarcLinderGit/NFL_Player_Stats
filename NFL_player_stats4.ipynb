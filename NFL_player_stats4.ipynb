{
 "cells": [
  {
   "cell_type": "markdown",
   "metadata": {},
   "source": [
    "## Import Libraries"
   ]
  },
  {
   "cell_type": "code",
   "execution_count": null,
   "metadata": {},
   "outputs": [],
   "source": [
    "import requests\n",
    "from bs4 import BeautifulSoup\n",
    "import matplotlib.pyplot as plt\n",
    "import pandas as pd\n",
    "import numpy as np\n",
    "import os\n",
    "import time"
   ]
  },
  {
   "cell_type": "markdown",
   "metadata": {},
   "source": [
    "### Set parameters"
   ]
  },
  {
   "cell_type": "code",
   "execution_count": null,
   "metadata": {},
   "outputs": [],
   "source": [
    "base_url = \"https://www.nfl.com\"\n",
    "current_week = 1\n"
   ]
  },
  {
   "cell_type": "markdown",
   "metadata": {},
   "source": [
    "## Player Stats"
   ]
  },
  {
   "cell_type": "markdown",
   "metadata": {},
   "source": [
    "#### Define function to get links"
   ]
  },
  {
   "cell_type": "code",
   "execution_count": null,
   "metadata": {},
   "outputs": [],
   "source": [
    "def get_links(level, season, base_url=\"https://www.nfl.com\"):\n",
    "    # Initialize a list to store the links\n",
    "    all_links = []\n",
    "\n",
    "    if level == \"player\":\n",
    "        # Request raw HTML\n",
    "        html = requests.get(\"https://www.nfl.com/stats/player-stats/\")\n",
    "        # Assuming your HTML is stored in a variable named html_content\n",
    "        soup = BeautifulSoup(html.content, 'html.parser')\n",
    "        # Find the ul element with class 'd3-o-tabbed-controls-selector__list'\n",
    "        li_elements = soup.find_all('li', class_='d3-o-tabs__list-item')\n",
    "    elif level == \"team\":\n",
    "        # First get the base links for offense, defense, and special-teams tab\n",
    "        # Request raw HTML\n",
    "        html = requests.get(\"https://www.nfl.com/stats/team-stats/\")\n",
    "        # Assuming your HTML is stored in a variable named html_content\n",
    "        soup = BeautifulSoup(html.content, 'html.parser')\n",
    "        # Find the ul element with class 'd3-o-tabbed-controls-selector__list'\n",
    "        ul_element = soup.find('ul', class_='d3-o-tabbed-controls-selector__list')\n",
    "        # Find all li elements within the ul element\n",
    "        li_elements = ul_element.find_all('li')\n",
    "\n",
    "    # Initialize a list to store the href values\n",
    "    href_values = []\n",
    "\n",
    "    # Iterate through the li elements and extract the href values from the a tags\n",
    "    for li in li_elements:\n",
    "        a_tag = li.find('a')\n",
    "        if a_tag:\n",
    "            href = a_tag['href']\n",
    "            href_values.append(href)\n",
    "\n",
    "    # Loop through href_values and fetch links for each URL\n",
    "    for href in href_values:\n",
    "        url = base_url + href\n",
    "        html = requests.get(url)\n",
    "        soup = BeautifulSoup(html.content, \"html.parser\")\n",
    "        a_elements = soup.find_all('li', class_='d3-o-tabs__list-item')\n",
    "        links = [base_url + element.find('a')['href'] for element in a_elements]\n",
    "        all_links.extend(links)  # Append the links to the all_links list\n",
    "    \n",
    "    # Replace \"2023\" with the value of the season variable we want to scrape\n",
    "    all_links = [link.replace('2023', season) for link in all_links]\n",
    "    return all_links\n",
    "\n",
    "\n",
    "    # For all other cases (invalid level), fetch general category links\n",
    "    html = requests.get(url)\n",
    "    soup = BeautifulSoup(html.content, \"html.parser\")\n",
    "    a_elements = soup.find_all('li', class_='d3-o-tabs__list-item')\n",
    "    tabs = [element.find('a').get_text() for element in a_elements]\n",
    "    links = [base_url + element.find('a')['href'] for element in a_elements]\n",
    "\n",
    "    return dict(zip(tabs, links))\n"
   ]
  },
  {
   "cell_type": "markdown",
   "metadata": {},
   "source": [
    "#### Define Function to format links"
   ]
  },
  {
   "cell_type": "code",
   "execution_count": 122,
   "metadata": {},
   "outputs": [],
   "source": [
    "# Updated format_links function\n",
    "def format_links(level, season):\n",
    "    # Create a dictionary to store the links for each unit and its categories\n",
    "    unit_links = {}\n",
    "\n",
    "    if level == \"player\":\n",
    "        # Define the URL for the player level\n",
    "        all_links = get_links(level, season, base_url)  # Pass the URL as an argument\n",
    "\n",
    "        # Create a dictionary to store the links\n",
    "        team_stats_dict = {}\n",
    "\n",
    "        for link in all_links:\n",
    "            # Split the link by \"/\"\n",
    "            parts = link.split('/')\n",
    "            # Get the keys and values\n",
    "            unit = \"individual\" # e.g., individual, offense, defense, special-teams\n",
    "            category = parts[6]\n",
    "            year = parts[7] # 2023\n",
    "            leg = parts[8] # reg of playoffs\n",
    "            url = link\n",
    "            # Add to the dictionary\n",
    "            if unit not in team_stats_dict:\n",
    "                team_stats_dict[unit] = {}\n",
    "            team_stats_dict[unit][category] = url\n",
    "\n",
    "    if level == \"team\":\n",
    "        all_links = get_links(level, season, base_url)\n",
    "\n",
    "        # Create a dictionary to store the links\n",
    "        team_stats_dict = {}\n",
    "\n",
    "        for link in all_links:\n",
    "            # Split the link by \"/\"\n",
    "            parts = link.split('/')\n",
    "            # Get the keys and values\n",
    "            unit = parts[5] # e.g., offense, defense, special-teams\n",
    "            category = parts[6] # e.g., passing, rushing etc.\n",
    "            year = parts[7] # 2023\n",
    "            leg = parts[8] # reg of playoffs\n",
    "            url = link\n",
    "            # Add to the dictionary\n",
    "            if unit not in team_stats_dict:\n",
    "                team_stats_dict[unit] = {}\n",
    "            team_stats_dict[unit][category] = url\n",
    "\n",
    "    # Get stat category names and update unit_links\n",
    "    stat_cols = {}\n",
    "\n",
    "    for outer_key, inner_dict in team_stats_dict.items():\n",
    "        inner_keys = list(inner_dict.keys())\n",
    "        \n",
    "        if outer_key in stat_cols:\n",
    "            stat_cols[outer_key].extend(inner_keys)\n",
    "        else:\n",
    "            stat_cols[outer_key] = inner_keys\n",
    "\n",
    "    # Update unit_links with the fetched links\n",
    "    unit_links = team_stats_dict\n",
    "\n",
    "    return unit_links\n"
   ]
  },
  {
   "cell_type": "markdown",
   "metadata": {},
   "source": [
    "### Define Function to Check/Create Directory"
   ]
  },
  {
   "cell_type": "code",
   "execution_count": null,
   "metadata": {},
   "outputs": [],
   "source": [
    "# Function to create directories if they don't exist\n",
    "def create_directory_if_not_exists(directory_path):\n",
    "    if not os.path.exists(directory_path):\n",
    "        try:\n",
    "            os.makedirs(directory_path)\n",
    "            print(f'Directory \"{directory_path}\" has been created.')\n",
    "        except OSError as e:\n",
    "            print(f'Error: Failed to create directory \"{directory_path}\".')\n",
    "            print(e)\n",
    "    else:\n",
    "        print(f'Directory \"{directory_path}\" already exists.')\n"
   ]
  },
  {
   "cell_type": "markdown",
   "metadata": {},
   "source": [
    "### Define Function to Scrape and Process Data"
   ]
  },
  {
   "cell_type": "code",
   "execution_count": null,
   "metadata": {},
   "outputs": [],
   "source": [
    "# Function to scrape and process data\n",
    "def scrape_and_process_data(link, unit, category, level, unit_directory_path):\n",
    "    # Request raw HTML for the current page\n",
    "    response = requests.get(link)\n",
    "\n",
    "    # Check if the request was successful\n",
    "    if response.status_code == 200:\n",
    "        # Create a BeautifulSoup object to parse the HTML\n",
    "        soup = BeautifulSoup(response.content, \"html.parser\")\n",
    "\n",
    "        # Find all elements with the class 'd3-o-player-stats--detailed'\n",
    "        stats = soup.find_all(attrs={\"class\": f'd3-o-{level}-stats--detailed'})\n",
    "\n",
    "        # Initialize lists to collect data\n",
    "        stat_val = []\n",
    "        stat_col = []\n",
    "\n",
    "        # Loop through each <tr> element to extract and collect the text from <td> elements\n",
    "        for row in stats:\n",
    "            # This gets the stat names\n",
    "            header_cells = row.find_all('th')\n",
    "\n",
    "            if len(header_cells) > 0:\n",
    "                for cell in header_cells:\n",
    "                    stat_col.append(cell.get_text(strip=True))\n",
    "\n",
    "            # This gets the stats\n",
    "            data_cells = row.find_all('td')\n",
    "\n",
    "            if len(data_cells) > 0:\n",
    "                for cell in data_cells:\n",
    "                    stat_val.append(cell.get_text(strip=True))\n",
    "\n",
    "        # Determine the number of columns in each row\n",
    "        num_columns = len(stat_col) if stat_col else 1  # Use 1 if stat_col is empty\n",
    "        \n",
    "        # Split the list into rows\n",
    "        rows = [stat_val[i:i + num_columns] for i in range(0, len(stat_val), num_columns)]\n",
    "\n",
    "        # Create a DataFrame for the current category\n",
    "        df = pd.DataFrame(rows, columns=stat_col)\n",
    "        \n",
    "        # Check if the DataFrame has a \"Team\" column before attempting to remove the duplicated part\n",
    "        if 'Team' in df.columns:\n",
    "            # Remove duplicated part from the \"Team\" column\n",
    "            df['Team'] = df['Team'].apply(lambda x: x[:len(x)//2])\n",
    "\n",
    "        # Create the directory if it doesn't exist\n",
    "        create_directory_if_not_exists(unit_directory_path)\n",
    "    \n",
    "        # Specify the file path within the unit's directory\n",
    "        csv_file_path = os.path.join(unit_directory_path, category + '.csv')\n",
    "\n",
    "        # Export the DataFrame to a CSV file\n",
    "        df.to_csv(csv_file_path, index=False)  # Set index=False to exclude the index column\n",
    "\n",
    "        print(f'DataFrame for category \"{category}\" in unit \"{unit}\" has been exported to {csv_file_path}')\n",
    "    else:\n",
    "        print(f\"Error: Unable to fetch the page for category '{category}' in unit '{unit}'.\")"
   ]
  },
  {
   "cell_type": "markdown",
   "metadata": {},
   "source": [
    "### Define Function to  Initiate Scraping Process"
   ]
  },
  {
   "cell_type": "code",
   "execution_count": 136,
   "metadata": {},
   "outputs": [],
   "source": [
    "def get_stats(level, season):\n",
    "    lst = [\"offense\", \"defense\", \"special-teams\"]\n",
    "\n",
    "    # Combine the base directory path with the current week for current season, else store data in reg (regular season)\n",
    "    global current_season\n",
    "    if season == current_season:\n",
    "        directory_path = os.path.join('data', season, level, 'week' + str(current_week))\n",
    "    elif season != current_season:\n",
    "        directory_path = os.path.join('data', season, level, 'reg')\n",
    "    \n",
    "    unit_links = format_links(level, season)\n",
    "\n",
    "    if level == \"team\":\n",
    "        for unit, categories in unit_links.items(): ## change to be same with player\n",
    "            for category, link in categories.items():\n",
    "\n",
    "                # Create a subdirectory for the current unit\n",
    "                unit_directory_path = os.path.join(directory_path, unit)\n",
    "                #create_directory_if_not_exists(unit_directory_path)\n",
    "\n",
    "\n",
    "                # Call scrape_and_process_data with individual category URLs\n",
    "                scrape_and_process_data(link, unit, category, level, unit_directory_path)\n",
    "                \n",
    "    elif level == \"player\":\n",
    "        for unit, categories in unit_links.items(): ## change to be same with player\n",
    "            for category, link in categories.items():\n",
    "                # Directly use the week1 directory for player-level data\n",
    "                unit_directory_path = directory_path\n",
    "\n",
    "                scrape_and_process_data(link, unit, category, level, unit_directory_path)\n",
    "    else:\n",
    "        print(\"Invalid level specified.\")\n"
   ]
  },
  {
   "cell_type": "markdown",
   "metadata": {},
   "source": [
    "### Get Historic Data"
   ]
  },
  {
   "cell_type": "code",
   "execution_count": null,
   "metadata": {},
   "outputs": [],
   "source": [
    "current_season = \"1993\""
   ]
  },
  {
   "cell_type": "code",
   "execution_count": null,
   "metadata": {},
   "outputs": [],
   "source": [
    "# hist - Example usage:\n",
    "levels = [\"player\", \"team\"]\n",
    "# Create a list of years as strings from 1970 to 2022\n",
    "seasons = [str(year) for year in range(1970, 2023)]\n",
    "\n",
    "for season in seasons:\n",
    "    for level in levels:\n",
    "        get_stats(level, season)"
   ]
  },
  {
   "cell_type": "markdown",
   "metadata": {},
   "source": [
    "### Get Current Season Data"
   ]
  },
  {
   "cell_type": "code",
   "execution_count": 137,
   "metadata": {},
   "outputs": [
    {
     "name": "stdout",
     "output_type": "stream",
     "text": [
      "['https://www.nfl.com/stats/player-stats/category/passing/1994/reg/all/passingyards/desc', 'https://www.nfl.com/stats/player-stats/category/rushing/1994/reg/all/rushingyards/desc', 'https://www.nfl.com/stats/player-stats/category/receiving/1994/reg/all/receivingreceptions/desc', 'https://www.nfl.com/stats/player-stats/category/fumbles/1994/reg/all/defensiveforcedfumble/desc', 'https://www.nfl.com/stats/player-stats/category/tackles/1994/reg/all/defensivecombinetackles/desc', 'https://www.nfl.com/stats/player-stats/category/interceptions/1994/reg/all/defensiveinterceptions/desc', 'https://www.nfl.com/stats/player-stats/category/field-goals/1994/reg/all/kickingfgmade/desc', 'https://www.nfl.com/stats/player-stats/category/kickoffs/1994/reg/all/kickofftotal/desc', 'https://www.nfl.com/stats/player-stats/category/kickoff-returns/1994/reg/all/kickreturnsaverageyards/desc', 'https://www.nfl.com/stats/player-stats/category/punts/1994/reg/all/puntingaverageyards/desc', 'https://www.nfl.com/stats/player-stats/category/punt-returns/1994/reg/all/puntreturnsaverageyards/desc', 'https://www.nfl.com/stats/player-stats/category/passing/1994/reg/all/passingyards/desc', 'https://www.nfl.com/stats/player-stats/category/rushing/1994/reg/all/rushingyards/desc', 'https://www.nfl.com/stats/player-stats/category/receiving/1994/reg/all/receivingreceptions/desc', 'https://www.nfl.com/stats/player-stats/category/fumbles/1994/reg/all/defensiveforcedfumble/desc', 'https://www.nfl.com/stats/player-stats/category/tackles/1994/reg/all/defensivecombinetackles/desc', 'https://www.nfl.com/stats/player-stats/category/interceptions/1994/reg/all/defensiveinterceptions/desc', 'https://www.nfl.com/stats/player-stats/category/field-goals/1994/reg/all/kickingfgmade/desc', 'https://www.nfl.com/stats/player-stats/category/kickoffs/1994/reg/all/kickofftotal/desc', 'https://www.nfl.com/stats/player-stats/category/kickoff-returns/1994/reg/all/kickreturnsaverageyards/desc', 'https://www.nfl.com/stats/player-stats/category/punts/1994/reg/all/puntingaverageyards/desc', 'https://www.nfl.com/stats/player-stats/category/punt-returns/1994/reg/all/puntreturnsaverageyards/desc', 'https://www.nfl.com/stats/player-stats/category/passing/1994/reg/all/passingyards/desc', 'https://www.nfl.com/stats/player-stats/category/rushing/1994/reg/all/rushingyards/desc', 'https://www.nfl.com/stats/player-stats/category/receiving/1994/reg/all/receivingreceptions/desc', 'https://www.nfl.com/stats/player-stats/category/fumbles/1994/reg/all/defensiveforcedfumble/desc', 'https://www.nfl.com/stats/player-stats/category/tackles/1994/reg/all/defensivecombinetackles/desc', 'https://www.nfl.com/stats/player-stats/category/interceptions/1994/reg/all/defensiveinterceptions/desc', 'https://www.nfl.com/stats/player-stats/category/field-goals/1994/reg/all/kickingfgmade/desc', 'https://www.nfl.com/stats/player-stats/category/kickoffs/1994/reg/all/kickofftotal/desc', 'https://www.nfl.com/stats/player-stats/category/kickoff-returns/1994/reg/all/kickreturnsaverageyards/desc', 'https://www.nfl.com/stats/player-stats/category/punts/1994/reg/all/puntingaverageyards/desc', 'https://www.nfl.com/stats/player-stats/category/punt-returns/1994/reg/all/puntreturnsaverageyards/desc', 'https://www.nfl.com/stats/player-stats/category/passing/1994/reg/all/passingyards/desc', 'https://www.nfl.com/stats/player-stats/category/rushing/1994/reg/all/rushingyards/desc', 'https://www.nfl.com/stats/player-stats/category/receiving/1994/reg/all/receivingreceptions/desc', 'https://www.nfl.com/stats/player-stats/category/fumbles/1994/reg/all/defensiveforcedfumble/desc', 'https://www.nfl.com/stats/player-stats/category/tackles/1994/reg/all/defensivecombinetackles/desc', 'https://www.nfl.com/stats/player-stats/category/interceptions/1994/reg/all/defensiveinterceptions/desc', 'https://www.nfl.com/stats/player-stats/category/field-goals/1994/reg/all/kickingfgmade/desc', 'https://www.nfl.com/stats/player-stats/category/kickoffs/1994/reg/all/kickofftotal/desc', 'https://www.nfl.com/stats/player-stats/category/kickoff-returns/1994/reg/all/kickreturnsaverageyards/desc', 'https://www.nfl.com/stats/player-stats/category/punts/1994/reg/all/puntingaverageyards/desc', 'https://www.nfl.com/stats/player-stats/category/punt-returns/1994/reg/all/puntreturnsaverageyards/desc', 'https://www.nfl.com/stats/player-stats/category/passing/1994/reg/all/passingyards/desc', 'https://www.nfl.com/stats/player-stats/category/rushing/1994/reg/all/rushingyards/desc', 'https://www.nfl.com/stats/player-stats/category/receiving/1994/reg/all/receivingreceptions/desc', 'https://www.nfl.com/stats/player-stats/category/fumbles/1994/reg/all/defensiveforcedfumble/desc', 'https://www.nfl.com/stats/player-stats/category/tackles/1994/reg/all/defensivecombinetackles/desc', 'https://www.nfl.com/stats/player-stats/category/interceptions/1994/reg/all/defensiveinterceptions/desc', 'https://www.nfl.com/stats/player-stats/category/field-goals/1994/reg/all/kickingfgmade/desc', 'https://www.nfl.com/stats/player-stats/category/kickoffs/1994/reg/all/kickofftotal/desc', 'https://www.nfl.com/stats/player-stats/category/kickoff-returns/1994/reg/all/kickreturnsaverageyards/desc', 'https://www.nfl.com/stats/player-stats/category/punts/1994/reg/all/puntingaverageyards/desc', 'https://www.nfl.com/stats/player-stats/category/punt-returns/1994/reg/all/puntreturnsaverageyards/desc', 'https://www.nfl.com/stats/player-stats/category/passing/1994/reg/all/passingyards/desc', 'https://www.nfl.com/stats/player-stats/category/rushing/1994/reg/all/rushingyards/desc', 'https://www.nfl.com/stats/player-stats/category/receiving/1994/reg/all/receivingreceptions/desc', 'https://www.nfl.com/stats/player-stats/category/fumbles/1994/reg/all/defensiveforcedfumble/desc', 'https://www.nfl.com/stats/player-stats/category/tackles/1994/reg/all/defensivecombinetackles/desc', 'https://www.nfl.com/stats/player-stats/category/interceptions/1994/reg/all/defensiveinterceptions/desc', 'https://www.nfl.com/stats/player-stats/category/field-goals/1994/reg/all/kickingfgmade/desc', 'https://www.nfl.com/stats/player-stats/category/kickoffs/1994/reg/all/kickofftotal/desc', 'https://www.nfl.com/stats/player-stats/category/kickoff-returns/1994/reg/all/kickreturnsaverageyards/desc', 'https://www.nfl.com/stats/player-stats/category/punts/1994/reg/all/puntingaverageyards/desc', 'https://www.nfl.com/stats/player-stats/category/punt-returns/1994/reg/all/puntreturnsaverageyards/desc', 'https://www.nfl.com/stats/player-stats/category/passing/1994/reg/all/passingyards/desc', 'https://www.nfl.com/stats/player-stats/category/rushing/1994/reg/all/rushingyards/desc', 'https://www.nfl.com/stats/player-stats/category/receiving/1994/reg/all/receivingreceptions/desc', 'https://www.nfl.com/stats/player-stats/category/fumbles/1994/reg/all/defensiveforcedfumble/desc', 'https://www.nfl.com/stats/player-stats/category/tackles/1994/reg/all/defensivecombinetackles/desc', 'https://www.nfl.com/stats/player-stats/category/interceptions/1994/reg/all/defensiveinterceptions/desc', 'https://www.nfl.com/stats/player-stats/category/field-goals/1994/reg/all/kickingfgmade/desc', 'https://www.nfl.com/stats/player-stats/category/kickoffs/1994/reg/all/kickofftotal/desc', 'https://www.nfl.com/stats/player-stats/category/kickoff-returns/1994/reg/all/kickreturnsaverageyards/desc', 'https://www.nfl.com/stats/player-stats/category/punts/1994/reg/all/puntingaverageyards/desc', 'https://www.nfl.com/stats/player-stats/category/punt-returns/1994/reg/all/puntreturnsaverageyards/desc', 'https://www.nfl.com/stats/player-stats/category/passing/1994/reg/all/passingyards/desc', 'https://www.nfl.com/stats/player-stats/category/rushing/1994/reg/all/rushingyards/desc', 'https://www.nfl.com/stats/player-stats/category/receiving/1994/reg/all/receivingreceptions/desc', 'https://www.nfl.com/stats/player-stats/category/fumbles/1994/reg/all/defensiveforcedfumble/desc', 'https://www.nfl.com/stats/player-stats/category/tackles/1994/reg/all/defensivecombinetackles/desc', 'https://www.nfl.com/stats/player-stats/category/interceptions/1994/reg/all/defensiveinterceptions/desc', 'https://www.nfl.com/stats/player-stats/category/field-goals/1994/reg/all/kickingfgmade/desc', 'https://www.nfl.com/stats/player-stats/category/kickoffs/1994/reg/all/kickofftotal/desc', 'https://www.nfl.com/stats/player-stats/category/kickoff-returns/1994/reg/all/kickreturnsaverageyards/desc', 'https://www.nfl.com/stats/player-stats/category/punts/1994/reg/all/puntingaverageyards/desc', 'https://www.nfl.com/stats/player-stats/category/punt-returns/1994/reg/all/puntreturnsaverageyards/desc', 'https://www.nfl.com/stats/player-stats/category/passing/1994/reg/all/passingyards/desc', 'https://www.nfl.com/stats/player-stats/category/rushing/1994/reg/all/rushingyards/desc', 'https://www.nfl.com/stats/player-stats/category/receiving/1994/reg/all/receivingreceptions/desc', 'https://www.nfl.com/stats/player-stats/category/fumbles/1994/reg/all/defensiveforcedfumble/desc', 'https://www.nfl.com/stats/player-stats/category/tackles/1994/reg/all/defensivecombinetackles/desc', 'https://www.nfl.com/stats/player-stats/category/interceptions/1994/reg/all/defensiveinterceptions/desc', 'https://www.nfl.com/stats/player-stats/category/field-goals/1994/reg/all/kickingfgmade/desc', 'https://www.nfl.com/stats/player-stats/category/kickoffs/1994/reg/all/kickofftotal/desc', 'https://www.nfl.com/stats/player-stats/category/kickoff-returns/1994/reg/all/kickreturnsaverageyards/desc', 'https://www.nfl.com/stats/player-stats/category/punts/1994/reg/all/puntingaverageyards/desc', 'https://www.nfl.com/stats/player-stats/category/punt-returns/1994/reg/all/puntreturnsaverageyards/desc', 'https://www.nfl.com/stats/player-stats/category/passing/1994/reg/all/passingyards/desc', 'https://www.nfl.com/stats/player-stats/category/rushing/1994/reg/all/rushingyards/desc', 'https://www.nfl.com/stats/player-stats/category/receiving/1994/reg/all/receivingreceptions/desc', 'https://www.nfl.com/stats/player-stats/category/fumbles/1994/reg/all/defensiveforcedfumble/desc', 'https://www.nfl.com/stats/player-stats/category/tackles/1994/reg/all/defensivecombinetackles/desc', 'https://www.nfl.com/stats/player-stats/category/interceptions/1994/reg/all/defensiveinterceptions/desc', 'https://www.nfl.com/stats/player-stats/category/field-goals/1994/reg/all/kickingfgmade/desc', 'https://www.nfl.com/stats/player-stats/category/kickoffs/1994/reg/all/kickofftotal/desc', 'https://www.nfl.com/stats/player-stats/category/kickoff-returns/1994/reg/all/kickreturnsaverageyards/desc', 'https://www.nfl.com/stats/player-stats/category/punts/1994/reg/all/puntingaverageyards/desc', 'https://www.nfl.com/stats/player-stats/category/punt-returns/1994/reg/all/puntreturnsaverageyards/desc', 'https://www.nfl.com/stats/player-stats/category/passing/1994/reg/all/passingyards/desc', 'https://www.nfl.com/stats/player-stats/category/rushing/1994/reg/all/rushingyards/desc', 'https://www.nfl.com/stats/player-stats/category/receiving/1994/reg/all/receivingreceptions/desc', 'https://www.nfl.com/stats/player-stats/category/fumbles/1994/reg/all/defensiveforcedfumble/desc', 'https://www.nfl.com/stats/player-stats/category/tackles/1994/reg/all/defensivecombinetackles/desc', 'https://www.nfl.com/stats/player-stats/category/interceptions/1994/reg/all/defensiveinterceptions/desc', 'https://www.nfl.com/stats/player-stats/category/field-goals/1994/reg/all/kickingfgmade/desc', 'https://www.nfl.com/stats/player-stats/category/kickoffs/1994/reg/all/kickofftotal/desc', 'https://www.nfl.com/stats/player-stats/category/kickoff-returns/1994/reg/all/kickreturnsaverageyards/desc', 'https://www.nfl.com/stats/player-stats/category/punts/1994/reg/all/puntingaverageyards/desc', 'https://www.nfl.com/stats/player-stats/category/punt-returns/1994/reg/all/puntreturnsaverageyards/desc']\n",
      "Directory \"data\\1994\\player\\reg\" has been created.\n",
      "DataFrame for category \"passing\" in unit \"individual\" has been exported to data\\1994\\player\\reg\\passing.csv\n",
      "Directory \"data\\1994\\player\\reg\" already exists.\n",
      "DataFrame for category \"rushing\" in unit \"individual\" has been exported to data\\1994\\player\\reg\\rushing.csv\n",
      "Directory \"data\\1994\\player\\reg\" already exists.\n",
      "DataFrame for category \"receiving\" in unit \"individual\" has been exported to data\\1994\\player\\reg\\receiving.csv\n",
      "Directory \"data\\1994\\player\\reg\" already exists.\n",
      "DataFrame for category \"fumbles\" in unit \"individual\" has been exported to data\\1994\\player\\reg\\fumbles.csv\n",
      "Directory \"data\\1994\\player\\reg\" already exists.\n",
      "DataFrame for category \"tackles\" in unit \"individual\" has been exported to data\\1994\\player\\reg\\tackles.csv\n",
      "Directory \"data\\1994\\player\\reg\" already exists.\n",
      "DataFrame for category \"interceptions\" in unit \"individual\" has been exported to data\\1994\\player\\reg\\interceptions.csv\n",
      "Directory \"data\\1994\\player\\reg\" already exists.\n",
      "DataFrame for category \"field-goals\" in unit \"individual\" has been exported to data\\1994\\player\\reg\\field-goals.csv\n",
      "Directory \"data\\1994\\player\\reg\" already exists.\n",
      "DataFrame for category \"kickoffs\" in unit \"individual\" has been exported to data\\1994\\player\\reg\\kickoffs.csv\n",
      "Directory \"data\\1994\\player\\reg\" already exists.\n",
      "DataFrame for category \"kickoff-returns\" in unit \"individual\" has been exported to data\\1994\\player\\reg\\kickoff-returns.csv\n",
      "Directory \"data\\1994\\player\\reg\" already exists.\n",
      "DataFrame for category \"punts\" in unit \"individual\" has been exported to data\\1994\\player\\reg\\punts.csv\n",
      "Directory \"data\\1994\\player\\reg\" already exists.\n",
      "DataFrame for category \"punt-returns\" in unit \"individual\" has been exported to data\\1994\\player\\reg\\punt-returns.csv\n",
      "['https://www.nfl.com/stats/team-stats/offense/passing/1994/reg/all', 'https://www.nfl.com/stats/team-stats/offense/rushing/1994/reg/all', 'https://www.nfl.com/stats/team-stats/offense/receiving/1994/reg/all', 'https://www.nfl.com/stats/team-stats/offense/scoring/1994/reg/all', 'https://www.nfl.com/stats/team-stats/offense/downs/1994/reg/all', 'https://www.nfl.com/stats/team-stats/defense/passing/1994/reg/all', 'https://www.nfl.com/stats/team-stats/defense/rushing/1994/reg/all', 'https://www.nfl.com/stats/team-stats/defense/receiving/1994/reg/all', 'https://www.nfl.com/stats/team-stats/defense/scoring/1994/reg/all', 'https://www.nfl.com/stats/team-stats/defense/tackles/1994/reg/all', 'https://www.nfl.com/stats/team-stats/defense/downs/1994/reg/all', 'https://www.nfl.com/stats/team-stats/defense/fumbles/1994/reg/all', 'https://www.nfl.com/stats/team-stats/defense/interceptions/1994/reg/all', 'https://www.nfl.com/stats/team-stats/special-teams/field-goals/1994/reg/all', 'https://www.nfl.com/stats/team-stats/special-teams/scoring/1994/reg/all', 'https://www.nfl.com/stats/team-stats/special-teams/kickoffs/1994/reg/all', 'https://www.nfl.com/stats/team-stats/special-teams/kickoff-returns/1994/reg/all', 'https://www.nfl.com/stats/team-stats/special-teams/punts/1994/reg/all', 'https://www.nfl.com/stats/team-stats/special-teams/punt-returns/1994/reg/all']\n",
      "Directory \"data\\1994\\team\\reg\\offense\" already exists.\n",
      "DataFrame for category \"passing\" in unit \"offense\" has been exported to data\\1994\\team\\reg\\offense\\passing.csv\n",
      "Directory \"data\\1994\\team\\reg\\offense\" already exists.\n",
      "DataFrame for category \"rushing\" in unit \"offense\" has been exported to data\\1994\\team\\reg\\offense\\rushing.csv\n",
      "Directory \"data\\1994\\team\\reg\\offense\" already exists.\n",
      "DataFrame for category \"receiving\" in unit \"offense\" has been exported to data\\1994\\team\\reg\\offense\\receiving.csv\n",
      "Directory \"data\\1994\\team\\reg\\offense\" already exists.\n",
      "DataFrame for category \"scoring\" in unit \"offense\" has been exported to data\\1994\\team\\reg\\offense\\scoring.csv\n",
      "Directory \"data\\1994\\team\\reg\\offense\" already exists.\n",
      "DataFrame for category \"downs\" in unit \"offense\" has been exported to data\\1994\\team\\reg\\offense\\downs.csv\n",
      "Directory \"data\\1994\\team\\reg\\defense\" already exists.\n",
      "DataFrame for category \"passing\" in unit \"defense\" has been exported to data\\1994\\team\\reg\\defense\\passing.csv\n",
      "Directory \"data\\1994\\team\\reg\\defense\" already exists.\n",
      "DataFrame for category \"rushing\" in unit \"defense\" has been exported to data\\1994\\team\\reg\\defense\\rushing.csv\n",
      "Directory \"data\\1994\\team\\reg\\defense\" already exists.\n",
      "DataFrame for category \"receiving\" in unit \"defense\" has been exported to data\\1994\\team\\reg\\defense\\receiving.csv\n",
      "Directory \"data\\1994\\team\\reg\\defense\" already exists.\n",
      "DataFrame for category \"scoring\" in unit \"defense\" has been exported to data\\1994\\team\\reg\\defense\\scoring.csv\n",
      "Directory \"data\\1994\\team\\reg\\defense\" already exists.\n",
      "DataFrame for category \"tackles\" in unit \"defense\" has been exported to data\\1994\\team\\reg\\defense\\tackles.csv\n",
      "Directory \"data\\1994\\team\\reg\\defense\" already exists.\n",
      "DataFrame for category \"downs\" in unit \"defense\" has been exported to data\\1994\\team\\reg\\defense\\downs.csv\n",
      "Directory \"data\\1994\\team\\reg\\defense\" already exists.\n",
      "DataFrame for category \"fumbles\" in unit \"defense\" has been exported to data\\1994\\team\\reg\\defense\\fumbles.csv\n",
      "Directory \"data\\1994\\team\\reg\\defense\" already exists.\n",
      "DataFrame for category \"interceptions\" in unit \"defense\" has been exported to data\\1994\\team\\reg\\defense\\interceptions.csv\n",
      "Directory \"data\\1994\\team\\reg\\special-teams\" already exists.\n",
      "DataFrame for category \"field-goals\" in unit \"special-teams\" has been exported to data\\1994\\team\\reg\\special-teams\\field-goals.csv\n",
      "Directory \"data\\1994\\team\\reg\\special-teams\" already exists.\n",
      "DataFrame for category \"scoring\" in unit \"special-teams\" has been exported to data\\1994\\team\\reg\\special-teams\\scoring.csv\n",
      "Directory \"data\\1994\\team\\reg\\special-teams\" already exists.\n",
      "DataFrame for category \"kickoffs\" in unit \"special-teams\" has been exported to data\\1994\\team\\reg\\special-teams\\kickoffs.csv\n",
      "Directory \"data\\1994\\team\\reg\\special-teams\" already exists.\n",
      "DataFrame for category \"kickoff-returns\" in unit \"special-teams\" has been exported to data\\1994\\team\\reg\\special-teams\\kickoff-returns.csv\n",
      "Directory \"data\\1994\\team\\reg\\special-teams\" already exists.\n",
      "DataFrame for category \"punts\" in unit \"special-teams\" has been exported to data\\1994\\team\\reg\\special-teams\\punts.csv\n",
      "Directory \"data\\1994\\team\\reg\\special-teams\" already exists.\n",
      "DataFrame for category \"punt-returns\" in unit \"special-teams\" has been exported to data\\1994\\team\\reg\\special-teams\\punt-returns.csv\n"
     ]
    }
   ],
   "source": [
    "# Example usage:\n",
    "levels = [\"player\", \"team\"]\n",
    "\n",
    "for level in levels:\n",
    "    get_stats(level, season = \"1994\")"
   ]
  },
  {
   "cell_type": "code",
   "execution_count": 135,
   "metadata": {},
   "outputs": [
    {
     "name": "stdout",
     "output_type": "stream",
     "text": [
      "['https://www.nfl.com/stats/player-stats/category/passing/1994/reg/all/passingyards/desc', 'https://www.nfl.com/stats/player-stats/category/rushing/1994/reg/all/rushingyards/desc', 'https://www.nfl.com/stats/player-stats/category/receiving/1994/reg/all/receivingreceptions/desc', 'https://www.nfl.com/stats/player-stats/category/fumbles/1994/reg/all/defensiveforcedfumble/desc', 'https://www.nfl.com/stats/player-stats/category/tackles/1994/reg/all/defensivecombinetackles/desc', 'https://www.nfl.com/stats/player-stats/category/interceptions/1994/reg/all/defensiveinterceptions/desc', 'https://www.nfl.com/stats/player-stats/category/field-goals/1994/reg/all/kickingfgmade/desc', 'https://www.nfl.com/stats/player-stats/category/kickoffs/1994/reg/all/kickofftotal/desc', 'https://www.nfl.com/stats/player-stats/category/kickoff-returns/1994/reg/all/kickreturnsaverageyards/desc', 'https://www.nfl.com/stats/player-stats/category/punts/1994/reg/all/puntingaverageyards/desc', 'https://www.nfl.com/stats/player-stats/category/punt-returns/1994/reg/all/puntreturnsaverageyards/desc', 'https://www.nfl.com/stats/player-stats/category/passing/1994/reg/all/passingyards/desc', 'https://www.nfl.com/stats/player-stats/category/rushing/1994/reg/all/rushingyards/desc', 'https://www.nfl.com/stats/player-stats/category/receiving/1994/reg/all/receivingreceptions/desc', 'https://www.nfl.com/stats/player-stats/category/fumbles/1994/reg/all/defensiveforcedfumble/desc', 'https://www.nfl.com/stats/player-stats/category/tackles/1994/reg/all/defensivecombinetackles/desc', 'https://www.nfl.com/stats/player-stats/category/interceptions/1994/reg/all/defensiveinterceptions/desc', 'https://www.nfl.com/stats/player-stats/category/field-goals/1994/reg/all/kickingfgmade/desc', 'https://www.nfl.com/stats/player-stats/category/kickoffs/1994/reg/all/kickofftotal/desc', 'https://www.nfl.com/stats/player-stats/category/kickoff-returns/1994/reg/all/kickreturnsaverageyards/desc', 'https://www.nfl.com/stats/player-stats/category/punts/1994/reg/all/puntingaverageyards/desc', 'https://www.nfl.com/stats/player-stats/category/punt-returns/1994/reg/all/puntreturnsaverageyards/desc', 'https://www.nfl.com/stats/player-stats/category/passing/1994/reg/all/passingyards/desc', 'https://www.nfl.com/stats/player-stats/category/rushing/1994/reg/all/rushingyards/desc', 'https://www.nfl.com/stats/player-stats/category/receiving/1994/reg/all/receivingreceptions/desc', 'https://www.nfl.com/stats/player-stats/category/fumbles/1994/reg/all/defensiveforcedfumble/desc', 'https://www.nfl.com/stats/player-stats/category/tackles/1994/reg/all/defensivecombinetackles/desc', 'https://www.nfl.com/stats/player-stats/category/interceptions/1994/reg/all/defensiveinterceptions/desc', 'https://www.nfl.com/stats/player-stats/category/field-goals/1994/reg/all/kickingfgmade/desc', 'https://www.nfl.com/stats/player-stats/category/kickoffs/1994/reg/all/kickofftotal/desc', 'https://www.nfl.com/stats/player-stats/category/kickoff-returns/1994/reg/all/kickreturnsaverageyards/desc', 'https://www.nfl.com/stats/player-stats/category/punts/1994/reg/all/puntingaverageyards/desc', 'https://www.nfl.com/stats/player-stats/category/punt-returns/1994/reg/all/puntreturnsaverageyards/desc', 'https://www.nfl.com/stats/player-stats/category/passing/1994/reg/all/passingyards/desc', 'https://www.nfl.com/stats/player-stats/category/rushing/1994/reg/all/rushingyards/desc', 'https://www.nfl.com/stats/player-stats/category/receiving/1994/reg/all/receivingreceptions/desc', 'https://www.nfl.com/stats/player-stats/category/fumbles/1994/reg/all/defensiveforcedfumble/desc', 'https://www.nfl.com/stats/player-stats/category/tackles/1994/reg/all/defensivecombinetackles/desc', 'https://www.nfl.com/stats/player-stats/category/interceptions/1994/reg/all/defensiveinterceptions/desc', 'https://www.nfl.com/stats/player-stats/category/field-goals/1994/reg/all/kickingfgmade/desc', 'https://www.nfl.com/stats/player-stats/category/kickoffs/1994/reg/all/kickofftotal/desc', 'https://www.nfl.com/stats/player-stats/category/kickoff-returns/1994/reg/all/kickreturnsaverageyards/desc', 'https://www.nfl.com/stats/player-stats/category/punts/1994/reg/all/puntingaverageyards/desc', 'https://www.nfl.com/stats/player-stats/category/punt-returns/1994/reg/all/puntreturnsaverageyards/desc', 'https://www.nfl.com/stats/player-stats/category/passing/1994/reg/all/passingyards/desc', 'https://www.nfl.com/stats/player-stats/category/rushing/1994/reg/all/rushingyards/desc', 'https://www.nfl.com/stats/player-stats/category/receiving/1994/reg/all/receivingreceptions/desc', 'https://www.nfl.com/stats/player-stats/category/fumbles/1994/reg/all/defensiveforcedfumble/desc', 'https://www.nfl.com/stats/player-stats/category/tackles/1994/reg/all/defensivecombinetackles/desc', 'https://www.nfl.com/stats/player-stats/category/interceptions/1994/reg/all/defensiveinterceptions/desc', 'https://www.nfl.com/stats/player-stats/category/field-goals/1994/reg/all/kickingfgmade/desc', 'https://www.nfl.com/stats/player-stats/category/kickoffs/1994/reg/all/kickofftotal/desc', 'https://www.nfl.com/stats/player-stats/category/kickoff-returns/1994/reg/all/kickreturnsaverageyards/desc', 'https://www.nfl.com/stats/player-stats/category/punts/1994/reg/all/puntingaverageyards/desc', 'https://www.nfl.com/stats/player-stats/category/punt-returns/1994/reg/all/puntreturnsaverageyards/desc', 'https://www.nfl.com/stats/player-stats/category/passing/1994/reg/all/passingyards/desc', 'https://www.nfl.com/stats/player-stats/category/rushing/1994/reg/all/rushingyards/desc', 'https://www.nfl.com/stats/player-stats/category/receiving/1994/reg/all/receivingreceptions/desc', 'https://www.nfl.com/stats/player-stats/category/fumbles/1994/reg/all/defensiveforcedfumble/desc', 'https://www.nfl.com/stats/player-stats/category/tackles/1994/reg/all/defensivecombinetackles/desc', 'https://www.nfl.com/stats/player-stats/category/interceptions/1994/reg/all/defensiveinterceptions/desc', 'https://www.nfl.com/stats/player-stats/category/field-goals/1994/reg/all/kickingfgmade/desc', 'https://www.nfl.com/stats/player-stats/category/kickoffs/1994/reg/all/kickofftotal/desc', 'https://www.nfl.com/stats/player-stats/category/kickoff-returns/1994/reg/all/kickreturnsaverageyards/desc', 'https://www.nfl.com/stats/player-stats/category/punts/1994/reg/all/puntingaverageyards/desc', 'https://www.nfl.com/stats/player-stats/category/punt-returns/1994/reg/all/puntreturnsaverageyards/desc', 'https://www.nfl.com/stats/player-stats/category/passing/1994/reg/all/passingyards/desc', 'https://www.nfl.com/stats/player-stats/category/rushing/1994/reg/all/rushingyards/desc', 'https://www.nfl.com/stats/player-stats/category/receiving/1994/reg/all/receivingreceptions/desc', 'https://www.nfl.com/stats/player-stats/category/fumbles/1994/reg/all/defensiveforcedfumble/desc', 'https://www.nfl.com/stats/player-stats/category/tackles/1994/reg/all/defensivecombinetackles/desc', 'https://www.nfl.com/stats/player-stats/category/interceptions/1994/reg/all/defensiveinterceptions/desc', 'https://www.nfl.com/stats/player-stats/category/field-goals/1994/reg/all/kickingfgmade/desc', 'https://www.nfl.com/stats/player-stats/category/kickoffs/1994/reg/all/kickofftotal/desc', 'https://www.nfl.com/stats/player-stats/category/kickoff-returns/1994/reg/all/kickreturnsaverageyards/desc', 'https://www.nfl.com/stats/player-stats/category/punts/1994/reg/all/puntingaverageyards/desc', 'https://www.nfl.com/stats/player-stats/category/punt-returns/1994/reg/all/puntreturnsaverageyards/desc', 'https://www.nfl.com/stats/player-stats/category/passing/1994/reg/all/passingyards/desc', 'https://www.nfl.com/stats/player-stats/category/rushing/1994/reg/all/rushingyards/desc', 'https://www.nfl.com/stats/player-stats/category/receiving/1994/reg/all/receivingreceptions/desc', 'https://www.nfl.com/stats/player-stats/category/fumbles/1994/reg/all/defensiveforcedfumble/desc', 'https://www.nfl.com/stats/player-stats/category/tackles/1994/reg/all/defensivecombinetackles/desc', 'https://www.nfl.com/stats/player-stats/category/interceptions/1994/reg/all/defensiveinterceptions/desc', 'https://www.nfl.com/stats/player-stats/category/field-goals/1994/reg/all/kickingfgmade/desc', 'https://www.nfl.com/stats/player-stats/category/kickoffs/1994/reg/all/kickofftotal/desc', 'https://www.nfl.com/stats/player-stats/category/kickoff-returns/1994/reg/all/kickreturnsaverageyards/desc', 'https://www.nfl.com/stats/player-stats/category/punts/1994/reg/all/puntingaverageyards/desc', 'https://www.nfl.com/stats/player-stats/category/punt-returns/1994/reg/all/puntreturnsaverageyards/desc', 'https://www.nfl.com/stats/player-stats/category/passing/1994/reg/all/passingyards/desc', 'https://www.nfl.com/stats/player-stats/category/rushing/1994/reg/all/rushingyards/desc', 'https://www.nfl.com/stats/player-stats/category/receiving/1994/reg/all/receivingreceptions/desc', 'https://www.nfl.com/stats/player-stats/category/fumbles/1994/reg/all/defensiveforcedfumble/desc', 'https://www.nfl.com/stats/player-stats/category/tackles/1994/reg/all/defensivecombinetackles/desc', 'https://www.nfl.com/stats/player-stats/category/interceptions/1994/reg/all/defensiveinterceptions/desc', 'https://www.nfl.com/stats/player-stats/category/field-goals/1994/reg/all/kickingfgmade/desc', 'https://www.nfl.com/stats/player-stats/category/kickoffs/1994/reg/all/kickofftotal/desc', 'https://www.nfl.com/stats/player-stats/category/kickoff-returns/1994/reg/all/kickreturnsaverageyards/desc', 'https://www.nfl.com/stats/player-stats/category/punts/1994/reg/all/puntingaverageyards/desc', 'https://www.nfl.com/stats/player-stats/category/punt-returns/1994/reg/all/puntreturnsaverageyards/desc', 'https://www.nfl.com/stats/player-stats/category/passing/1994/reg/all/passingyards/desc', 'https://www.nfl.com/stats/player-stats/category/rushing/1994/reg/all/rushingyards/desc', 'https://www.nfl.com/stats/player-stats/category/receiving/1994/reg/all/receivingreceptions/desc', 'https://www.nfl.com/stats/player-stats/category/fumbles/1994/reg/all/defensiveforcedfumble/desc', 'https://www.nfl.com/stats/player-stats/category/tackles/1994/reg/all/defensivecombinetackles/desc', 'https://www.nfl.com/stats/player-stats/category/interceptions/1994/reg/all/defensiveinterceptions/desc', 'https://www.nfl.com/stats/player-stats/category/field-goals/1994/reg/all/kickingfgmade/desc', 'https://www.nfl.com/stats/player-stats/category/kickoffs/1994/reg/all/kickofftotal/desc', 'https://www.nfl.com/stats/player-stats/category/kickoff-returns/1994/reg/all/kickreturnsaverageyards/desc', 'https://www.nfl.com/stats/player-stats/category/punts/1994/reg/all/puntingaverageyards/desc', 'https://www.nfl.com/stats/player-stats/category/punt-returns/1994/reg/all/puntreturnsaverageyards/desc', 'https://www.nfl.com/stats/player-stats/category/passing/1994/reg/all/passingyards/desc', 'https://www.nfl.com/stats/player-stats/category/rushing/1994/reg/all/rushingyards/desc', 'https://www.nfl.com/stats/player-stats/category/receiving/1994/reg/all/receivingreceptions/desc', 'https://www.nfl.com/stats/player-stats/category/fumbles/1994/reg/all/defensiveforcedfumble/desc', 'https://www.nfl.com/stats/player-stats/category/tackles/1994/reg/all/defensivecombinetackles/desc', 'https://www.nfl.com/stats/player-stats/category/interceptions/1994/reg/all/defensiveinterceptions/desc', 'https://www.nfl.com/stats/player-stats/category/field-goals/1994/reg/all/kickingfgmade/desc', 'https://www.nfl.com/stats/player-stats/category/kickoffs/1994/reg/all/kickofftotal/desc', 'https://www.nfl.com/stats/player-stats/category/kickoff-returns/1994/reg/all/kickreturnsaverageyards/desc', 'https://www.nfl.com/stats/player-stats/category/punts/1994/reg/all/puntingaverageyards/desc', 'https://www.nfl.com/stats/player-stats/category/punt-returns/1994/reg/all/puntreturnsaverageyards/desc']\n"
     ]
    },
    {
     "ename": "TypeError",
     "evalue": "scrape_and_process_data() missing 1 required positional argument: 'unit_directory_path'",
     "output_type": "error",
     "traceback": [
      "\u001b[1;31m---------------------------------------------------------------------------\u001b[0m",
      "\u001b[1;31mTypeError\u001b[0m                                 Traceback (most recent call last)",
      "\u001b[1;32m<ipython-input-135-c4b6fca63ed5>\u001b[0m in \u001b[0;36m<module>\u001b[1;34m\u001b[0m\n\u001b[1;32m----> 1\u001b[1;33m \u001b[0mget_stats\u001b[0m\u001b[1;33m(\u001b[0m\u001b[0mlevel\u001b[0m\u001b[1;33m=\u001b[0m\u001b[1;34m\"player\"\u001b[0m\u001b[1;33m,\u001b[0m \u001b[0mseason\u001b[0m \u001b[1;33m=\u001b[0m \u001b[1;34m\"1994\"\u001b[0m\u001b[1;33m)\u001b[0m\u001b[1;33m\u001b[0m\u001b[1;33m\u001b[0m\u001b[0m\n\u001b[0m",
      "\u001b[1;32m<ipython-input-134-847395257d1f>\u001b[0m in \u001b[0;36mget_stats\u001b[1;34m(level, season)\u001b[0m\n\u001b[0;32m     29\u001b[0m                 \u001b[0munit_directory_path\u001b[0m \u001b[1;33m=\u001b[0m \u001b[0mdirectory_path\u001b[0m\u001b[1;33m\u001b[0m\u001b[1;33m\u001b[0m\u001b[0m\n\u001b[0;32m     30\u001b[0m \u001b[1;33m\u001b[0m\u001b[0m\n\u001b[1;32m---> 31\u001b[1;33m                 \u001b[0mscrape_and_process_data\u001b[0m\u001b[1;33m(\u001b[0m\u001b[0mlink\u001b[0m\u001b[1;33m,\u001b[0m \u001b[0mcategory\u001b[0m\u001b[1;33m,\u001b[0m \u001b[0mlevel\u001b[0m\u001b[1;33m,\u001b[0m \u001b[0munit_directory_path\u001b[0m\u001b[1;33m)\u001b[0m\u001b[1;33m\u001b[0m\u001b[1;33m\u001b[0m\u001b[0m\n\u001b[0m\u001b[0;32m     32\u001b[0m     \u001b[1;32melse\u001b[0m\u001b[1;33m:\u001b[0m\u001b[1;33m\u001b[0m\u001b[1;33m\u001b[0m\u001b[0m\n\u001b[0;32m     33\u001b[0m         \u001b[0mprint\u001b[0m\u001b[1;33m(\u001b[0m\u001b[1;34m\"Invalid level specified.\"\u001b[0m\u001b[1;33m)\u001b[0m\u001b[1;33m\u001b[0m\u001b[1;33m\u001b[0m\u001b[0m\n",
      "\u001b[1;31mTypeError\u001b[0m: scrape_and_process_data() missing 1 required positional argument: 'unit_directory_path'"
     ]
    }
   ],
   "source": [
    "get_stats(level=\"player\", season = \"2023\")"
   ]
  },
  {
   "cell_type": "code",
   "execution_count": null,
   "metadata": {},
   "outputs": [],
   "source": []
  }
 ],
 "metadata": {
  "kernelspec": {
   "display_name": "Python 3",
   "language": "python",
   "name": "python3"
  },
  "language_info": {
   "codemirror_mode": {
    "name": "ipython",
    "version": 3
   },
   "file_extension": ".py",
   "mimetype": "text/x-python",
   "name": "python",
   "nbconvert_exporter": "python",
   "pygments_lexer": "ipython3",
   "version": "3.7.8"
  }
 },
 "nbformat": 4,
 "nbformat_minor": 2
}
